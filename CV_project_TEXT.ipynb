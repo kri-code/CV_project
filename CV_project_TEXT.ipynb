{
  "nbformat": 4,
  "nbformat_minor": 0,
  "metadata": {
    "colab": {
      "provenance": []
    },
    "kernelspec": {
      "name": "python3",
      "display_name": "Python 3"
    },
    "language_info": {
      "name": "python"
    }
  },
  "cells": [
    {
      "cell_type": "code",
      "source": [
        "!pip install transformers"
      ],
      "metadata": {
        "id": "DWzh3N6HryOD"
      },
      "execution_count": null,
      "outputs": []
    },
    {
      "cell_type": "code",
      "source": [
        "# Importing the relevant modulesfrom transformers import BertTokenizer, BertModel\n",
        "import csv\n",
        "from transformers import BertTokenizer, BertModel\n",
        "import pandas as pd\n",
        "import numpy as np\n",
        "import torch\n",
        "import torch.nn.functional as f\n",
        "\n",
        "# Loading the pre-trained BERT model\n",
        "###################################\n",
        "# Embeddings will be derived from the outputs of this model\n",
        "\n",
        "model = BertModel.from_pretrained('bert-base-uncased',\n",
        "           output_hidden_states = True,) \n",
        "\n",
        "# Setting up the tokenizer\n",
        "###################################\n",
        "tokenizer = BertTokenizer.from_pretrained('bert-base-uncased')\n",
        "\n",
        "\n",
        "\n",
        "\n",
        "model = model.eval()"
      ],
      "metadata": {
        "id": "Zy-pJB3PeXqq"
      },
      "execution_count": null,
      "outputs": []
    },
    {
      "cell_type": "code",
      "source": [
        "data = csv.reader(open('dev_sent_emo.csv', 'rt'), delimiter=\",\")\n",
        "text =  [row[1] for row in data]\n",
        "text = text[1:]\n",
        "print(text[57])"
      ],
      "metadata": {
        "colab": {
          "base_uri": "https://localhost:8080/"
        },
        "id": "YZHE5rCKP_ip",
        "outputId": "0e114825-9451-4cbe-dedf-d0a0f9d83fae"
      },
      "execution_count": null,
      "outputs": [
        {
          "output_type": "stream",
          "name": "stdout",
          "text": [
            "All in good time my love.\n"
          ]
        }
      ]
    },
    {
      "cell_type": "code",
      "source": [
        "encodings = tokenizer(\n",
        "    text[57], # the texts to be tokenized\n",
        "    padding='max_length', # pad the texts to the maximum length (so that all outputs have the same length)\n",
        "    max_length=70,\n",
        "    return_tensors='pt' # return the tensors (not lists)\n",
        ")\n"
      ],
      "metadata": {
        "id": "Nmj65PiqQAQA"
      },
      "execution_count": null,
      "outputs": []
    },
    {
      "cell_type": "code",
      "source": [
        "# disable gradient calculations\n",
        "with torch.no_grad():\n",
        "    # get the model embeddings\n",
        "    embeds = model(**encodings)"
      ],
      "metadata": {
        "id": "V9GMu_JyQbwH"
      },
      "execution_count": null,
      "outputs": []
    },
    {
      "cell_type": "code",
      "source": [
        "embeds = embeds[0]\n",
        "print(embeds)"
      ],
      "metadata": {
        "colab": {
          "base_uri": "https://localhost:8080/"
        },
        "id": "Pb_FZ6zbQiww",
        "outputId": "178642a6-1757-4a53-849c-d53ab9d088ae"
      },
      "execution_count": null,
      "outputs": [
        {
          "output_type": "stream",
          "name": "stdout",
          "text": [
            "tensor([[[-0.0374, -0.0703,  0.0862,  ..., -0.5228, -0.0345,  0.6213],\n",
            "         [-0.0437, -0.1165,  0.6461,  ...,  0.1705,  0.5171,  0.7057],\n",
            "         [-0.3836, -0.5599, -0.1070,  ..., -0.0727, -0.1948,  0.8782],\n",
            "         ...,\n",
            "         [-0.1866, -0.5990,  0.3276,  ...,  0.2017, -0.3181, -0.1098],\n",
            "         [-0.0909, -0.1007,  0.6931,  ..., -0.2495, -0.5904,  0.5527],\n",
            "         [ 0.0190,  0.0327,  0.6818,  ..., -0.2182, -0.5573,  0.7103]]])\n"
          ]
        }
      ]
    },
    {
      "cell_type": "code",
      "source": [
        "print(embeds.shape)"
      ],
      "metadata": {
        "colab": {
          "base_uri": "https://localhost:8080/"
        },
        "id": "OESsGtzKQlwH",
        "outputId": "4196e307-3671-499c-9a4f-34214b916dbb"
      },
      "execution_count": null,
      "outputs": [
        {
          "output_type": "stream",
          "name": "stdout",
          "text": [
            "torch.Size([1, 70, 768])\n"
          ]
        }
      ]
    }
  ]
}