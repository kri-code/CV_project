{
  "nbformat": 4,
  "nbformat_minor": 0,
  "metadata": {
    "colab": {
      "provenance": []
    },
    "kernelspec": {
      "name": "python3",
      "display_name": "Python 3"
    },
    "language_info": {
      "name": "python"
    },
    "accelerator": "GPU",
    "gpuClass": "standard"
  },
  "cells": [
    {
      "cell_type": "markdown",
      "source": [
        "\n",
        "# Set up environment"
      ],
      "metadata": {
        "id": "EwDKBwnCc1lw"
      }
    },
    {
      "cell_type": "code",
      "source": [
        "!pip install torchtext==0.10.0"
      ],
      "metadata": {
        "colab": {
          "base_uri": "https://localhost:8080/"
        },
        "id": "w2XMR6vjf685",
        "outputId": "3b0b4b2f-053c-4797-ee64-1d4d389cf028"
      },
      "execution_count": null,
      "outputs": [
        {
          "output_type": "stream",
          "name": "stdout",
          "text": [
            "Looking in indexes: https://pypi.org/simple, https://us-python.pkg.dev/colab-wheels/public/simple/\n",
            "Collecting torchtext==0.10.0\n",
            "  Downloading torchtext-0.10.0-cp38-cp38-manylinux1_x86_64.whl (7.6 MB)\n",
            "\u001b[2K     \u001b[90m━━━━━━━━━━━━━━━━━━━━━━━━━━━━━━━━━━━━━━━━\u001b[0m \u001b[32m7.6/7.6 MB\u001b[0m \u001b[31m40.8 MB/s\u001b[0m eta \u001b[36m0:00:00\u001b[0m\n",
            "\u001b[?25hRequirement already satisfied: tqdm in /usr/local/lib/python3.8/dist-packages (from torchtext==0.10.0) (4.64.1)\n",
            "Collecting torch==1.9.0\n",
            "  Downloading torch-1.9.0-cp38-cp38-manylinux1_x86_64.whl (831.4 MB)\n",
            "\u001b[2K     \u001b[90m━━━━━━━━━━━━━━━━━━━━━━━━━━━━━━━━━━━━━━━\u001b[0m \u001b[32m831.4/831.4 MB\u001b[0m \u001b[31m1.8 MB/s\u001b[0m eta \u001b[36m0:00:00\u001b[0m\n",
            "\u001b[?25hRequirement already satisfied: requests in /usr/local/lib/python3.8/dist-packages (from torchtext==0.10.0) (2.25.1)\n",
            "Requirement already satisfied: numpy in /usr/local/lib/python3.8/dist-packages (from torchtext==0.10.0) (1.21.6)\n",
            "Requirement already satisfied: typing-extensions in /usr/local/lib/python3.8/dist-packages (from torch==1.9.0->torchtext==0.10.0) (4.4.0)\n",
            "Requirement already satisfied: certifi>=2017.4.17 in /usr/local/lib/python3.8/dist-packages (from requests->torchtext==0.10.0) (2022.12.7)\n",
            "Requirement already satisfied: urllib3<1.27,>=1.21.1 in /usr/local/lib/python3.8/dist-packages (from requests->torchtext==0.10.0) (1.24.3)\n",
            "Requirement already satisfied: idna<3,>=2.5 in /usr/local/lib/python3.8/dist-packages (from requests->torchtext==0.10.0) (2.10)\n",
            "Requirement already satisfied: chardet<5,>=3.0.2 in /usr/local/lib/python3.8/dist-packages (from requests->torchtext==0.10.0) (4.0.0)\n",
            "Installing collected packages: torch, torchtext\n",
            "  Attempting uninstall: torch\n",
            "    Found existing installation: torch 1.13.1+cu116\n",
            "    Uninstalling torch-1.13.1+cu116:\n",
            "      Successfully uninstalled torch-1.13.1+cu116\n",
            "  Attempting uninstall: torchtext\n",
            "    Found existing installation: torchtext 0.14.1\n",
            "    Uninstalling torchtext-0.14.1:\n",
            "      Successfully uninstalled torchtext-0.14.1\n",
            "\u001b[31mERROR: pip's dependency resolver does not currently take into account all the packages that are installed. This behaviour is the source of the following dependency conflicts.\n",
            "torchvision 0.14.1+cu116 requires torch==1.13.1, but you have torch 1.9.0 which is incompatible.\n",
            "torchaudio 0.13.1+cu116 requires torch==1.13.1, but you have torch 1.9.0 which is incompatible.\u001b[0m\u001b[31m\n",
            "\u001b[0mSuccessfully installed torch-1.9.0 torchtext-0.10.0\n"
          ]
        }
      ]
    },
    {
      "cell_type": "code",
      "execution_count": null,
      "metadata": {
        "colab": {
          "base_uri": "https://localhost:8080/"
        },
        "id": "PS8JTUp7cvEy",
        "outputId": "c1cdb662-c672-402d-a626-35f5d4ebfdf1"
      },
      "outputs": [
        {
          "output_type": "stream",
          "name": "stdout",
          "text": [
            "0.10.0\n"
          ]
        },
        {
          "output_type": "stream",
          "name": "stderr",
          "text": [
            "[nltk_data] Downloading package punkt to /root/nltk_data...\n",
            "[nltk_data]   Unzipping tokenizers/punkt.zip.\n"
          ]
        }
      ],
      "source": [
        "import numpy as np\n",
        "import matplotlib.pyplot as plt\n",
        "import os, sys\n",
        "import torch\n",
        "from torch.utils.data import Dataset, DataLoader, random_split\n",
        "import pandas as pd\n",
        "\n",
        "from sklearn.preprocessing import LabelEncoder\n",
        "import torchtext \n",
        "\n",
        "print(torchtext.__version__)\n",
        "# from torchtext.data import *\n",
        "from torchtext.legacy import *\n",
        "from torchtext.legacy.data import *\n",
        "import nltk\n",
        "nltk.download('punkt')\n",
        "from nltk import word_tokenize\n",
        "plt.style.use('seaborn')"
      ]
    },
    {
      "cell_type": "code",
      "source": [
        "from google.colab import drive\n",
        "drive.mount('/content/drive')"
      ],
      "metadata": {
        "colab": {
          "base_uri": "https://localhost:8080/"
        },
        "id": "nXc-VzGSgB9F",
        "outputId": "4eaef4dc-3ac4-4990-e468-02969663049b"
      },
      "execution_count": null,
      "outputs": [
        {
          "output_type": "stream",
          "name": "stdout",
          "text": [
            "Mounted at /content/drive\n"
          ]
        }
      ]
    },
    {
      "cell_type": "markdown",
      "source": [
        "# Load dataset"
      ],
      "metadata": {
        "id": "mfBTS_p2dBAB"
      }
    },
    {
      "cell_type": "code",
      "source": [
        "datapath = \"/content/drive/MyDrive/IMPRS/dlcv/data/MELD/\"\n",
        "train_df = pd.read_csv(datapath + \"train_sent_emo.csv\")\n",
        "test_df = pd.read_csv(datapath + \"test_sent_emo.csv\")\n",
        "train_df"
      ],
      "metadata": {
        "colab": {
          "base_uri": "https://localhost:8080/",
          "height": 424
        },
        "outputId": "e86cd6e2-294d-4f84-ef96-8883754a71d5",
        "id": "t5oRevX2dBAC"
      },
      "execution_count": null,
      "outputs": [
        {
          "output_type": "execute_result",
          "data": {
            "text/plain": [
              "      Sr No.                                          Utterance  \\\n",
              "0          1  also I was the point person on my company’s tr...   \n",
              "1          2                   You must’ve had your hands full.   \n",
              "2          3                            That I did. That I did.   \n",
              "3          4      So let’s talk a little bit about your duties.   \n",
              "4          5                             My duties?  All right.   \n",
              "...      ...                                                ...   \n",
              "9984   10474                                         You or me?   \n",
              "9985   10475  I got it. Uh, Joey, women don't have Adam's ap...   \n",
              "9986   10476               You guys are messing with me, right?   \n",
              "9987   10477                                              Yeah.   \n",
              "9988   10478  That was a good one. For a second there, I was...   \n",
              "\n",
              "              Speaker   Emotion Sentiment  Dialogue_ID  Utterance_ID  Season  \\\n",
              "0            Chandler   neutral   neutral            0             0       8   \n",
              "1     The Interviewer   neutral   neutral            0             1       8   \n",
              "2            Chandler   neutral   neutral            0             2       8   \n",
              "3     The Interviewer   neutral   neutral            0             3       8   \n",
              "4            Chandler  surprise  positive            0             4       8   \n",
              "...               ...       ...       ...          ...           ...     ...   \n",
              "9984         Chandler   neutral   neutral         1038            13       2   \n",
              "9985             Ross   neutral   neutral         1038            14       2   \n",
              "9986             Joey  surprise  positive         1038            15       2   \n",
              "9987              All   neutral   neutral         1038            16       2   \n",
              "9988             Joey       joy  positive         1038            17       2   \n",
              "\n",
              "      Episode     StartTime       EndTime  \n",
              "0          21  00:16:16,059  00:16:21,731  \n",
              "1          21  00:16:21,940  00:16:23,442  \n",
              "2          21  00:16:23,442  00:16:26,389  \n",
              "3          21  00:16:26,820  00:16:29,572  \n",
              "4          21  00:16:34,452  00:16:40,917  \n",
              "...       ...           ...           ...  \n",
              "9984        3  00:00:48,173  00:00:50,799  \n",
              "9985        3  00:00:51,009  00:00:53,594  \n",
              "9986        3  00:01:00,518  00:01:03,520  \n",
              "9987        3  00:01:05,398  00:01:07,274  \n",
              "9988        3  00:01:08,401  00:01:12,071  \n",
              "\n",
              "[9989 rows x 11 columns]"
            ],
            "text/html": [
              "\n",
              "  <div id=\"df-eeec5fe9-7542-462d-b536-55433d671594\">\n",
              "    <div class=\"colab-df-container\">\n",
              "      <div>\n",
              "<style scoped>\n",
              "    .dataframe tbody tr th:only-of-type {\n",
              "        vertical-align: middle;\n",
              "    }\n",
              "\n",
              "    .dataframe tbody tr th {\n",
              "        vertical-align: top;\n",
              "    }\n",
              "\n",
              "    .dataframe thead th {\n",
              "        text-align: right;\n",
              "    }\n",
              "</style>\n",
              "<table border=\"1\" class=\"dataframe\">\n",
              "  <thead>\n",
              "    <tr style=\"text-align: right;\">\n",
              "      <th></th>\n",
              "      <th>Sr No.</th>\n",
              "      <th>Utterance</th>\n",
              "      <th>Speaker</th>\n",
              "      <th>Emotion</th>\n",
              "      <th>Sentiment</th>\n",
              "      <th>Dialogue_ID</th>\n",
              "      <th>Utterance_ID</th>\n",
              "      <th>Season</th>\n",
              "      <th>Episode</th>\n",
              "      <th>StartTime</th>\n",
              "      <th>EndTime</th>\n",
              "    </tr>\n",
              "  </thead>\n",
              "  <tbody>\n",
              "    <tr>\n",
              "      <th>0</th>\n",
              "      <td>1</td>\n",
              "      <td>also I was the point person on my company’s tr...</td>\n",
              "      <td>Chandler</td>\n",
              "      <td>neutral</td>\n",
              "      <td>neutral</td>\n",
              "      <td>0</td>\n",
              "      <td>0</td>\n",
              "      <td>8</td>\n",
              "      <td>21</td>\n",
              "      <td>00:16:16,059</td>\n",
              "      <td>00:16:21,731</td>\n",
              "    </tr>\n",
              "    <tr>\n",
              "      <th>1</th>\n",
              "      <td>2</td>\n",
              "      <td>You must’ve had your hands full.</td>\n",
              "      <td>The Interviewer</td>\n",
              "      <td>neutral</td>\n",
              "      <td>neutral</td>\n",
              "      <td>0</td>\n",
              "      <td>1</td>\n",
              "      <td>8</td>\n",
              "      <td>21</td>\n",
              "      <td>00:16:21,940</td>\n",
              "      <td>00:16:23,442</td>\n",
              "    </tr>\n",
              "    <tr>\n",
              "      <th>2</th>\n",
              "      <td>3</td>\n",
              "      <td>That I did. That I did.</td>\n",
              "      <td>Chandler</td>\n",
              "      <td>neutral</td>\n",
              "      <td>neutral</td>\n",
              "      <td>0</td>\n",
              "      <td>2</td>\n",
              "      <td>8</td>\n",
              "      <td>21</td>\n",
              "      <td>00:16:23,442</td>\n",
              "      <td>00:16:26,389</td>\n",
              "    </tr>\n",
              "    <tr>\n",
              "      <th>3</th>\n",
              "      <td>4</td>\n",
              "      <td>So let’s talk a little bit about your duties.</td>\n",
              "      <td>The Interviewer</td>\n",
              "      <td>neutral</td>\n",
              "      <td>neutral</td>\n",
              "      <td>0</td>\n",
              "      <td>3</td>\n",
              "      <td>8</td>\n",
              "      <td>21</td>\n",
              "      <td>00:16:26,820</td>\n",
              "      <td>00:16:29,572</td>\n",
              "    </tr>\n",
              "    <tr>\n",
              "      <th>4</th>\n",
              "      <td>5</td>\n",
              "      <td>My duties?  All right.</td>\n",
              "      <td>Chandler</td>\n",
              "      <td>surprise</td>\n",
              "      <td>positive</td>\n",
              "      <td>0</td>\n",
              "      <td>4</td>\n",
              "      <td>8</td>\n",
              "      <td>21</td>\n",
              "      <td>00:16:34,452</td>\n",
              "      <td>00:16:40,917</td>\n",
              "    </tr>\n",
              "    <tr>\n",
              "      <th>...</th>\n",
              "      <td>...</td>\n",
              "      <td>...</td>\n",
              "      <td>...</td>\n",
              "      <td>...</td>\n",
              "      <td>...</td>\n",
              "      <td>...</td>\n",
              "      <td>...</td>\n",
              "      <td>...</td>\n",
              "      <td>...</td>\n",
              "      <td>...</td>\n",
              "      <td>...</td>\n",
              "    </tr>\n",
              "    <tr>\n",
              "      <th>9984</th>\n",
              "      <td>10474</td>\n",
              "      <td>You or me?</td>\n",
              "      <td>Chandler</td>\n",
              "      <td>neutral</td>\n",
              "      <td>neutral</td>\n",
              "      <td>1038</td>\n",
              "      <td>13</td>\n",
              "      <td>2</td>\n",
              "      <td>3</td>\n",
              "      <td>00:00:48,173</td>\n",
              "      <td>00:00:50,799</td>\n",
              "    </tr>\n",
              "    <tr>\n",
              "      <th>9985</th>\n",
              "      <td>10475</td>\n",
              "      <td>I got it. Uh, Joey, women don't have Adam's ap...</td>\n",
              "      <td>Ross</td>\n",
              "      <td>neutral</td>\n",
              "      <td>neutral</td>\n",
              "      <td>1038</td>\n",
              "      <td>14</td>\n",
              "      <td>2</td>\n",
              "      <td>3</td>\n",
              "      <td>00:00:51,009</td>\n",
              "      <td>00:00:53,594</td>\n",
              "    </tr>\n",
              "    <tr>\n",
              "      <th>9986</th>\n",
              "      <td>10476</td>\n",
              "      <td>You guys are messing with me, right?</td>\n",
              "      <td>Joey</td>\n",
              "      <td>surprise</td>\n",
              "      <td>positive</td>\n",
              "      <td>1038</td>\n",
              "      <td>15</td>\n",
              "      <td>2</td>\n",
              "      <td>3</td>\n",
              "      <td>00:01:00,518</td>\n",
              "      <td>00:01:03,520</td>\n",
              "    </tr>\n",
              "    <tr>\n",
              "      <th>9987</th>\n",
              "      <td>10477</td>\n",
              "      <td>Yeah.</td>\n",
              "      <td>All</td>\n",
              "      <td>neutral</td>\n",
              "      <td>neutral</td>\n",
              "      <td>1038</td>\n",
              "      <td>16</td>\n",
              "      <td>2</td>\n",
              "      <td>3</td>\n",
              "      <td>00:01:05,398</td>\n",
              "      <td>00:01:07,274</td>\n",
              "    </tr>\n",
              "    <tr>\n",
              "      <th>9988</th>\n",
              "      <td>10478</td>\n",
              "      <td>That was a good one. For a second there, I was...</td>\n",
              "      <td>Joey</td>\n",
              "      <td>joy</td>\n",
              "      <td>positive</td>\n",
              "      <td>1038</td>\n",
              "      <td>17</td>\n",
              "      <td>2</td>\n",
              "      <td>3</td>\n",
              "      <td>00:01:08,401</td>\n",
              "      <td>00:01:12,071</td>\n",
              "    </tr>\n",
              "  </tbody>\n",
              "</table>\n",
              "<p>9989 rows × 11 columns</p>\n",
              "</div>\n",
              "      <button class=\"colab-df-convert\" onclick=\"convertToInteractive('df-eeec5fe9-7542-462d-b536-55433d671594')\"\n",
              "              title=\"Convert this dataframe to an interactive table.\"\n",
              "              style=\"display:none;\">\n",
              "        \n",
              "  <svg xmlns=\"http://www.w3.org/2000/svg\" height=\"24px\"viewBox=\"0 0 24 24\"\n",
              "       width=\"24px\">\n",
              "    <path d=\"M0 0h24v24H0V0z\" fill=\"none\"/>\n",
              "    <path d=\"M18.56 5.44l.94 2.06.94-2.06 2.06-.94-2.06-.94-.94-2.06-.94 2.06-2.06.94zm-11 1L8.5 8.5l.94-2.06 2.06-.94-2.06-.94L8.5 2.5l-.94 2.06-2.06.94zm10 10l.94 2.06.94-2.06 2.06-.94-2.06-.94-.94-2.06-.94 2.06-2.06.94z\"/><path d=\"M17.41 7.96l-1.37-1.37c-.4-.4-.92-.59-1.43-.59-.52 0-1.04.2-1.43.59L10.3 9.45l-7.72 7.72c-.78.78-.78 2.05 0 2.83L4 21.41c.39.39.9.59 1.41.59.51 0 1.02-.2 1.41-.59l7.78-7.78 2.81-2.81c.8-.78.8-2.07 0-2.86zM5.41 20L4 18.59l7.72-7.72 1.47 1.35L5.41 20z\"/>\n",
              "  </svg>\n",
              "      </button>\n",
              "      \n",
              "  <style>\n",
              "    .colab-df-container {\n",
              "      display:flex;\n",
              "      flex-wrap:wrap;\n",
              "      gap: 12px;\n",
              "    }\n",
              "\n",
              "    .colab-df-convert {\n",
              "      background-color: #E8F0FE;\n",
              "      border: none;\n",
              "      border-radius: 50%;\n",
              "      cursor: pointer;\n",
              "      display: none;\n",
              "      fill: #1967D2;\n",
              "      height: 32px;\n",
              "      padding: 0 0 0 0;\n",
              "      width: 32px;\n",
              "    }\n",
              "\n",
              "    .colab-df-convert:hover {\n",
              "      background-color: #E2EBFA;\n",
              "      box-shadow: 0px 1px 2px rgba(60, 64, 67, 0.3), 0px 1px 3px 1px rgba(60, 64, 67, 0.15);\n",
              "      fill: #174EA6;\n",
              "    }\n",
              "\n",
              "    [theme=dark] .colab-df-convert {\n",
              "      background-color: #3B4455;\n",
              "      fill: #D2E3FC;\n",
              "    }\n",
              "\n",
              "    [theme=dark] .colab-df-convert:hover {\n",
              "      background-color: #434B5C;\n",
              "      box-shadow: 0px 1px 3px 1px rgba(0, 0, 0, 0.15);\n",
              "      filter: drop-shadow(0px 1px 2px rgba(0, 0, 0, 0.3));\n",
              "      fill: #FFFFFF;\n",
              "    }\n",
              "  </style>\n",
              "\n",
              "      <script>\n",
              "        const buttonEl =\n",
              "          document.querySelector('#df-eeec5fe9-7542-462d-b536-55433d671594 button.colab-df-convert');\n",
              "        buttonEl.style.display =\n",
              "          google.colab.kernel.accessAllowed ? 'block' : 'none';\n",
              "\n",
              "        async function convertToInteractive(key) {\n",
              "          const element = document.querySelector('#df-eeec5fe9-7542-462d-b536-55433d671594');\n",
              "          const dataTable =\n",
              "            await google.colab.kernel.invokeFunction('convertToInteractive',\n",
              "                                                     [key], {});\n",
              "          if (!dataTable) return;\n",
              "\n",
              "          const docLinkHtml = 'Like what you see? Visit the ' +\n",
              "            '<a target=\"_blank\" href=https://colab.research.google.com/notebooks/data_table.ipynb>data table notebook</a>'\n",
              "            + ' to learn more about interactive tables.';\n",
              "          element.innerHTML = '';\n",
              "          dataTable['output_type'] = 'display_data';\n",
              "          await google.colab.output.renderOutput(dataTable, element);\n",
              "          const docLink = document.createElement('div');\n",
              "          docLink.innerHTML = docLinkHtml;\n",
              "          element.appendChild(docLink);\n",
              "        }\n",
              "      </script>\n",
              "    </div>\n",
              "  </div>\n",
              "  "
            ]
          },
          "metadata": {},
          "execution_count": 4
        }
      ]
    },
    {
      "cell_type": "code",
      "source": [
        "test_df"
      ],
      "metadata": {
        "colab": {
          "base_uri": "https://localhost:8080/",
          "height": 424
        },
        "id": "OMb8OrzLNz1G",
        "outputId": "43685528-cf9a-4477-d931-5dffc5180db3"
      },
      "execution_count": null,
      "outputs": [
        {
          "output_type": "execute_result",
          "data": {
            "text/plain": [
              "      Sr No.                                          Utterance Speaker  \\\n",
              "0          1  Why do all you’re coffee mugs have numbers on ...    Mark   \n",
              "1          2  Oh. That’s so Monica can keep track. That way ...  Rachel   \n",
              "2          3                                       Y'know what?  Rachel   \n",
              "3         19                     Come on, Lydia, you can do it.    Joey   \n",
              "4         20                                              Push!    Joey   \n",
              "...      ...                                                ...     ...   \n",
              "2605    2760  Yeah, I mean, come on Ross, no one will even n...  Rachel   \n",
              "2606    2761                      They’re not listening too me?    Ross   \n",
              "2607    2762  Of course they’re listening to you! Everybody ...  Rachel   \n",
              "2608    2763  Monica you really think I should try this phas...    Ross   \n",
              "2609    2764                             I think you look fine.  Monica   \n",
              "\n",
              "       Emotion Sentiment  Dialogue_ID  Utterance_ID  Season  Episode  \\\n",
              "0     surprise  positive            0             0       3       19   \n",
              "1        anger  negative            0             1       3       19   \n",
              "2      neutral   neutral            0             2       3       19   \n",
              "3      neutral   neutral            1             0       1       23   \n",
              "4          joy  positive            1             1       1       23   \n",
              "...        ...       ...          ...           ...     ...      ...   \n",
              "2605   neutral   neutral          279            11       6        4   \n",
              "2606  surprise  negative          279            12       6        4   \n",
              "2607   neutral   neutral          279            13       6        4   \n",
              "2608   neutral   neutral          279            14       6        4   \n",
              "2609   neutral   neutral          279            15       6        4   \n",
              "\n",
              "         StartTime       EndTime  \n",
              "0     00:14:38,127  00:14:40,378  \n",
              "1     00:14:40,629  00:14:47,385  \n",
              "2     00:14:56,353  00:14:57,520  \n",
              "3      0:10:44,769   0:10:46,146  \n",
              "4      0:10:46,146   0:10:46,833  \n",
              "...            ...           ...  \n",
              "2605  00:14:35,457  00:14:40,211  \n",
              "2606  00:14:42,256  00:14:43,840  \n",
              "2607  00:14:44,008  00:14:48,511  \n",
              "2608  00:14:48,138  00:14:52,390  \n",
              "2609  00:14:52,558  00:14:54,183  \n",
              "\n",
              "[2610 rows x 11 columns]"
            ],
            "text/html": [
              "\n",
              "  <div id=\"df-d6921da4-bf39-42b9-8f41-9e4becad2647\">\n",
              "    <div class=\"colab-df-container\">\n",
              "      <div>\n",
              "<style scoped>\n",
              "    .dataframe tbody tr th:only-of-type {\n",
              "        vertical-align: middle;\n",
              "    }\n",
              "\n",
              "    .dataframe tbody tr th {\n",
              "        vertical-align: top;\n",
              "    }\n",
              "\n",
              "    .dataframe thead th {\n",
              "        text-align: right;\n",
              "    }\n",
              "</style>\n",
              "<table border=\"1\" class=\"dataframe\">\n",
              "  <thead>\n",
              "    <tr style=\"text-align: right;\">\n",
              "      <th></th>\n",
              "      <th>Sr No.</th>\n",
              "      <th>Utterance</th>\n",
              "      <th>Speaker</th>\n",
              "      <th>Emotion</th>\n",
              "      <th>Sentiment</th>\n",
              "      <th>Dialogue_ID</th>\n",
              "      <th>Utterance_ID</th>\n",
              "      <th>Season</th>\n",
              "      <th>Episode</th>\n",
              "      <th>StartTime</th>\n",
              "      <th>EndTime</th>\n",
              "    </tr>\n",
              "  </thead>\n",
              "  <tbody>\n",
              "    <tr>\n",
              "      <th>0</th>\n",
              "      <td>1</td>\n",
              "      <td>Why do all you’re coffee mugs have numbers on ...</td>\n",
              "      <td>Mark</td>\n",
              "      <td>surprise</td>\n",
              "      <td>positive</td>\n",
              "      <td>0</td>\n",
              "      <td>0</td>\n",
              "      <td>3</td>\n",
              "      <td>19</td>\n",
              "      <td>00:14:38,127</td>\n",
              "      <td>00:14:40,378</td>\n",
              "    </tr>\n",
              "    <tr>\n",
              "      <th>1</th>\n",
              "      <td>2</td>\n",
              "      <td>Oh. That’s so Monica can keep track. That way ...</td>\n",
              "      <td>Rachel</td>\n",
              "      <td>anger</td>\n",
              "      <td>negative</td>\n",
              "      <td>0</td>\n",
              "      <td>1</td>\n",
              "      <td>3</td>\n",
              "      <td>19</td>\n",
              "      <td>00:14:40,629</td>\n",
              "      <td>00:14:47,385</td>\n",
              "    </tr>\n",
              "    <tr>\n",
              "      <th>2</th>\n",
              "      <td>3</td>\n",
              "      <td>Y'know what?</td>\n",
              "      <td>Rachel</td>\n",
              "      <td>neutral</td>\n",
              "      <td>neutral</td>\n",
              "      <td>0</td>\n",
              "      <td>2</td>\n",
              "      <td>3</td>\n",
              "      <td>19</td>\n",
              "      <td>00:14:56,353</td>\n",
              "      <td>00:14:57,520</td>\n",
              "    </tr>\n",
              "    <tr>\n",
              "      <th>3</th>\n",
              "      <td>19</td>\n",
              "      <td>Come on, Lydia, you can do it.</td>\n",
              "      <td>Joey</td>\n",
              "      <td>neutral</td>\n",
              "      <td>neutral</td>\n",
              "      <td>1</td>\n",
              "      <td>0</td>\n",
              "      <td>1</td>\n",
              "      <td>23</td>\n",
              "      <td>0:10:44,769</td>\n",
              "      <td>0:10:46,146</td>\n",
              "    </tr>\n",
              "    <tr>\n",
              "      <th>4</th>\n",
              "      <td>20</td>\n",
              "      <td>Push!</td>\n",
              "      <td>Joey</td>\n",
              "      <td>joy</td>\n",
              "      <td>positive</td>\n",
              "      <td>1</td>\n",
              "      <td>1</td>\n",
              "      <td>1</td>\n",
              "      <td>23</td>\n",
              "      <td>0:10:46,146</td>\n",
              "      <td>0:10:46,833</td>\n",
              "    </tr>\n",
              "    <tr>\n",
              "      <th>...</th>\n",
              "      <td>...</td>\n",
              "      <td>...</td>\n",
              "      <td>...</td>\n",
              "      <td>...</td>\n",
              "      <td>...</td>\n",
              "      <td>...</td>\n",
              "      <td>...</td>\n",
              "      <td>...</td>\n",
              "      <td>...</td>\n",
              "      <td>...</td>\n",
              "      <td>...</td>\n",
              "    </tr>\n",
              "    <tr>\n",
              "      <th>2605</th>\n",
              "      <td>2760</td>\n",
              "      <td>Yeah, I mean, come on Ross, no one will even n...</td>\n",
              "      <td>Rachel</td>\n",
              "      <td>neutral</td>\n",
              "      <td>neutral</td>\n",
              "      <td>279</td>\n",
              "      <td>11</td>\n",
              "      <td>6</td>\n",
              "      <td>4</td>\n",
              "      <td>00:14:35,457</td>\n",
              "      <td>00:14:40,211</td>\n",
              "    </tr>\n",
              "    <tr>\n",
              "      <th>2606</th>\n",
              "      <td>2761</td>\n",
              "      <td>They’re not listening too me?</td>\n",
              "      <td>Ross</td>\n",
              "      <td>surprise</td>\n",
              "      <td>negative</td>\n",
              "      <td>279</td>\n",
              "      <td>12</td>\n",
              "      <td>6</td>\n",
              "      <td>4</td>\n",
              "      <td>00:14:42,256</td>\n",
              "      <td>00:14:43,840</td>\n",
              "    </tr>\n",
              "    <tr>\n",
              "      <th>2607</th>\n",
              "      <td>2762</td>\n",
              "      <td>Of course they’re listening to you! Everybody ...</td>\n",
              "      <td>Rachel</td>\n",
              "      <td>neutral</td>\n",
              "      <td>neutral</td>\n",
              "      <td>279</td>\n",
              "      <td>13</td>\n",
              "      <td>6</td>\n",
              "      <td>4</td>\n",
              "      <td>00:14:44,008</td>\n",
              "      <td>00:14:48,511</td>\n",
              "    </tr>\n",
              "    <tr>\n",
              "      <th>2608</th>\n",
              "      <td>2763</td>\n",
              "      <td>Monica you really think I should try this phas...</td>\n",
              "      <td>Ross</td>\n",
              "      <td>neutral</td>\n",
              "      <td>neutral</td>\n",
              "      <td>279</td>\n",
              "      <td>14</td>\n",
              "      <td>6</td>\n",
              "      <td>4</td>\n",
              "      <td>00:14:48,138</td>\n",
              "      <td>00:14:52,390</td>\n",
              "    </tr>\n",
              "    <tr>\n",
              "      <th>2609</th>\n",
              "      <td>2764</td>\n",
              "      <td>I think you look fine.</td>\n",
              "      <td>Monica</td>\n",
              "      <td>neutral</td>\n",
              "      <td>neutral</td>\n",
              "      <td>279</td>\n",
              "      <td>15</td>\n",
              "      <td>6</td>\n",
              "      <td>4</td>\n",
              "      <td>00:14:52,558</td>\n",
              "      <td>00:14:54,183</td>\n",
              "    </tr>\n",
              "  </tbody>\n",
              "</table>\n",
              "<p>2610 rows × 11 columns</p>\n",
              "</div>\n",
              "      <button class=\"colab-df-convert\" onclick=\"convertToInteractive('df-d6921da4-bf39-42b9-8f41-9e4becad2647')\"\n",
              "              title=\"Convert this dataframe to an interactive table.\"\n",
              "              style=\"display:none;\">\n",
              "        \n",
              "  <svg xmlns=\"http://www.w3.org/2000/svg\" height=\"24px\"viewBox=\"0 0 24 24\"\n",
              "       width=\"24px\">\n",
              "    <path d=\"M0 0h24v24H0V0z\" fill=\"none\"/>\n",
              "    <path d=\"M18.56 5.44l.94 2.06.94-2.06 2.06-.94-2.06-.94-.94-2.06-.94 2.06-2.06.94zm-11 1L8.5 8.5l.94-2.06 2.06-.94-2.06-.94L8.5 2.5l-.94 2.06-2.06.94zm10 10l.94 2.06.94-2.06 2.06-.94-2.06-.94-.94-2.06-.94 2.06-2.06.94z\"/><path d=\"M17.41 7.96l-1.37-1.37c-.4-.4-.92-.59-1.43-.59-.52 0-1.04.2-1.43.59L10.3 9.45l-7.72 7.72c-.78.78-.78 2.05 0 2.83L4 21.41c.39.39.9.59 1.41.59.51 0 1.02-.2 1.41-.59l7.78-7.78 2.81-2.81c.8-.78.8-2.07 0-2.86zM5.41 20L4 18.59l7.72-7.72 1.47 1.35L5.41 20z\"/>\n",
              "  </svg>\n",
              "      </button>\n",
              "      \n",
              "  <style>\n",
              "    .colab-df-container {\n",
              "      display:flex;\n",
              "      flex-wrap:wrap;\n",
              "      gap: 12px;\n",
              "    }\n",
              "\n",
              "    .colab-df-convert {\n",
              "      background-color: #E8F0FE;\n",
              "      border: none;\n",
              "      border-radius: 50%;\n",
              "      cursor: pointer;\n",
              "      display: none;\n",
              "      fill: #1967D2;\n",
              "      height: 32px;\n",
              "      padding: 0 0 0 0;\n",
              "      width: 32px;\n",
              "    }\n",
              "\n",
              "    .colab-df-convert:hover {\n",
              "      background-color: #E2EBFA;\n",
              "      box-shadow: 0px 1px 2px rgba(60, 64, 67, 0.3), 0px 1px 3px 1px rgba(60, 64, 67, 0.15);\n",
              "      fill: #174EA6;\n",
              "    }\n",
              "\n",
              "    [theme=dark] .colab-df-convert {\n",
              "      background-color: #3B4455;\n",
              "      fill: #D2E3FC;\n",
              "    }\n",
              "\n",
              "    [theme=dark] .colab-df-convert:hover {\n",
              "      background-color: #434B5C;\n",
              "      box-shadow: 0px 1px 3px 1px rgba(0, 0, 0, 0.15);\n",
              "      filter: drop-shadow(0px 1px 2px rgba(0, 0, 0, 0.3));\n",
              "      fill: #FFFFFF;\n",
              "    }\n",
              "  </style>\n",
              "\n",
              "      <script>\n",
              "        const buttonEl =\n",
              "          document.querySelector('#df-d6921da4-bf39-42b9-8f41-9e4becad2647 button.colab-df-convert');\n",
              "        buttonEl.style.display =\n",
              "          google.colab.kernel.accessAllowed ? 'block' : 'none';\n",
              "\n",
              "        async function convertToInteractive(key) {\n",
              "          const element = document.querySelector('#df-d6921da4-bf39-42b9-8f41-9e4becad2647');\n",
              "          const dataTable =\n",
              "            await google.colab.kernel.invokeFunction('convertToInteractive',\n",
              "                                                     [key], {});\n",
              "          if (!dataTable) return;\n",
              "\n",
              "          const docLinkHtml = 'Like what you see? Visit the ' +\n",
              "            '<a target=\"_blank\" href=https://colab.research.google.com/notebooks/data_table.ipynb>data table notebook</a>'\n",
              "            + ' to learn more about interactive tables.';\n",
              "          element.innerHTML = '';\n",
              "          dataTable['output_type'] = 'display_data';\n",
              "          await google.colab.output.renderOutput(dataTable, element);\n",
              "          const docLink = document.createElement('div');\n",
              "          docLink.innerHTML = docLinkHtml;\n",
              "          element.appendChild(docLink);\n",
              "        }\n",
              "      </script>\n",
              "    </div>\n",
              "  </div>\n",
              "  "
            ]
          },
          "metadata": {},
          "execution_count": 5
        }
      ]
    },
    {
      "cell_type": "code",
      "source": [
        "train_df['Emotion'].hist()"
      ],
      "metadata": {
        "colab": {
          "base_uri": "https://localhost:8080/",
          "height": 283
        },
        "id": "xDe8NaXett5Q",
        "outputId": "d4737364-aaf8-443d-de56-be7b68c76e68"
      },
      "execution_count": null,
      "outputs": [
        {
          "output_type": "execute_result",
          "data": {
            "text/plain": [
              "<matplotlib.axes._subplots.AxesSubplot at 0x7fcfe7022490>"
            ]
          },
          "metadata": {},
          "execution_count": 9
        },
        {
          "output_type": "display_data",
          "data": {
            "text/plain": [
              "<Figure size 432x288 with 1 Axes>"
            ],
            "image/png": "[encoded data removed]"
          },
          "metadata": {
            "needs_background": "light"
          }
        }
      ]
    },
    {
      "cell_type": "markdown",
      "source": [
        "# Preprocessing"
      ],
      "metadata": {
        "id": "IEfOxX2LdBAD"
      }
    },
    {
      "cell_type": "code",
      "source": [
        "train_df[['Emotion']] = train_df[['Emotion']].apply(LabelEncoder().fit_transform) \n",
        "test_df[['Emotion']] = test_df[['Emotion']].apply(LabelEncoder().fit_transform) \n"
      ],
      "metadata": {
        "id": "yH0ltX3Gu73R"
      },
      "execution_count": null,
      "outputs": []
    },
    {
      "cell_type": "code",
      "source": [
        "df2 = train_df.drop(train_df.columns[[0,2,4,5,6,7,8,9,10]],axis=1)\n",
        "df3 = test_df.drop(train_df.columns[[0,2,4,5,6,7,8,9,10]],axis=1)\n",
        "# df2 = df2.drop(train_df.columns[[1]],axis=1)\n",
        "\n",
        "df2"
      ],
      "metadata": {
        "colab": {
          "base_uri": "https://localhost:8080/",
          "height": 424
        },
        "id": "H_TVWWZXVlWb",
        "outputId": "0b2d5a69-9771-48ca-9623-5e5cc9713200"
      },
      "execution_count": null,
      "outputs": [
        {
          "output_type": "execute_result",
          "data": {
            "text/plain": [
              "                                              Utterance  Emotion\n",
              "0     also I was the point person on my company’s tr...        4\n",
              "1                      You must’ve had your hands full.        4\n",
              "2                               That I did. That I did.        4\n",
              "3         So let’s talk a little bit about your duties.        4\n",
              "4                                My duties?  All right.        6\n",
              "...                                                 ...      ...\n",
              "9984                                         You or me?        4\n",
              "9985  I got it. Uh, Joey, women don't have Adam's ap...        4\n",
              "9986               You guys are messing with me, right?        6\n",
              "9987                                              Yeah.        4\n",
              "9988  That was a good one. For a second there, I was...        3\n",
              "\n",
              "[9989 rows x 2 columns]"
            ],
            "text/html": [
              "\n",
              "  <div id=\"df-b207eb65-79d4-461b-bf98-574761bd99de\">\n",
              "    <div class=\"colab-df-container\">\n",
              "      <div>\n",
              "<style scoped>\n",
              "    .dataframe tbody tr th:only-of-type {\n",
              "        vertical-align: middle;\n",
              "    }\n",
              "\n",
              "    .dataframe tbody tr th {\n",
              "        vertical-align: top;\n",
              "    }\n",
              "\n",
              "    .dataframe thead th {\n",
              "        text-align: right;\n",
              "    }\n",
              "</style>\n",
              "<table border=\"1\" class=\"dataframe\">\n",
              "  <thead>\n",
              "    <tr style=\"text-align: right;\">\n",
              "      <th></th>\n",
              "      <th>Utterance</th>\n",
              "      <th>Emotion</th>\n",
              "    </tr>\n",
              "  </thead>\n",
              "  <tbody>\n",
              "    <tr>\n",
              "      <th>0</th>\n",
              "      <td>also I was the point person on my company’s tr...</td>\n",
              "      <td>4</td>\n",
              "    </tr>\n",
              "    <tr>\n",
              "      <th>1</th>\n",
              "      <td>You must’ve had your hands full.</td>\n",
              "      <td>4</td>\n",
              "    </tr>\n",
              "    <tr>\n",
              "      <th>2</th>\n",
              "      <td>That I did. That I did.</td>\n",
              "      <td>4</td>\n",
              "    </tr>\n",
              "    <tr>\n",
              "      <th>3</th>\n",
              "      <td>So let’s talk a little bit about your duties.</td>\n",
              "      <td>4</td>\n",
              "    </tr>\n",
              "    <tr>\n",
              "      <th>4</th>\n",
              "      <td>My duties?  All right.</td>\n",
              "      <td>6</td>\n",
              "    </tr>\n",
              "    <tr>\n",
              "      <th>...</th>\n",
              "      <td>...</td>\n",
              "      <td>...</td>\n",
              "    </tr>\n",
              "    <tr>\n",
              "      <th>9984</th>\n",
              "      <td>You or me?</td>\n",
              "      <td>4</td>\n",
              "    </tr>\n",
              "    <tr>\n",
              "      <th>9985</th>\n",
              "      <td>I got it. Uh, Joey, women don't have Adam's ap...</td>\n",
              "      <td>4</td>\n",
              "    </tr>\n",
              "    <tr>\n",
              "      <th>9986</th>\n",
              "      <td>You guys are messing with me, right?</td>\n",
              "      <td>6</td>\n",
              "    </tr>\n",
              "    <tr>\n",
              "      <th>9987</th>\n",
              "      <td>Yeah.</td>\n",
              "      <td>4</td>\n",
              "    </tr>\n",
              "    <tr>\n",
              "      <th>9988</th>\n",
              "      <td>That was a good one. For a second there, I was...</td>\n",
              "      <td>3</td>\n",
              "    </tr>\n",
              "  </tbody>\n",
              "</table>\n",
              "<p>9989 rows × 2 columns</p>\n",
              "</div>\n",
              "      <button class=\"colab-df-convert\" onclick=\"convertToInteractive('df-b207eb65-79d4-461b-bf98-574761bd99de')\"\n",
              "              title=\"Convert this dataframe to an interactive table.\"\n",
              "              style=\"display:none;\">\n",
              "        \n",
              "  <svg xmlns=\"http://www.w3.org/2000/svg\" height=\"24px\"viewBox=\"0 0 24 24\"\n",
              "       width=\"24px\">\n",
              "    <path d=\"M0 0h24v24H0V0z\" fill=\"none\"/>\n",
              "    <path d=\"M18.56 5.44l.94 2.06.94-2.06 2.06-.94-2.06-.94-.94-2.06-.94 2.06-2.06.94zm-11 1L8.5 8.5l.94-2.06 2.06-.94-2.06-.94L8.5 2.5l-.94 2.06-2.06.94zm10 10l.94 2.06.94-2.06 2.06-.94-2.06-.94-.94-2.06-.94 2.06-2.06.94z\"/><path d=\"M17.41 7.96l-1.37-1.37c-.4-.4-.92-.59-1.43-.59-.52 0-1.04.2-1.43.59L10.3 9.45l-7.72 7.72c-.78.78-.78 2.05 0 2.83L4 21.41c.39.39.9.59 1.41.59.51 0 1.02-.2 1.41-.59l7.78-7.78 2.81-2.81c.8-.78.8-2.07 0-2.86zM5.41 20L4 18.59l7.72-7.72 1.47 1.35L5.41 20z\"/>\n",
              "  </svg>\n",
              "      </button>\n",
              "      \n",
              "  <style>\n",
              "    .colab-df-container {\n",
              "      display:flex;\n",
              "      flex-wrap:wrap;\n",
              "      gap: 12px;\n",
              "    }\n",
              "\n",
              "    .colab-df-convert {\n",
              "      background-color: #E8F0FE;\n",
              "      border: none;\n",
              "      border-radius: 50%;\n",
              "      cursor: pointer;\n",
              "      display: none;\n",
              "      fill: #1967D2;\n",
              "      height: 32px;\n",
              "      padding: 0 0 0 0;\n",
              "      width: 32px;\n",
              "    }\n",
              "\n",
              "    .colab-df-convert:hover {\n",
              "      background-color: #E2EBFA;\n",
              "      box-shadow: 0px 1px 2px rgba(60, 64, 67, 0.3), 0px 1px 3px 1px rgba(60, 64, 67, 0.15);\n",
              "      fill: #174EA6;\n",
              "    }\n",
              "\n",
              "    [theme=dark] .colab-df-convert {\n",
              "      background-color: #3B4455;\n",
              "      fill: #D2E3FC;\n",
              "    }\n",
              "\n",
              "    [theme=dark] .colab-df-convert:hover {\n",
              "      background-color: #434B5C;\n",
              "      box-shadow: 0px 1px 3px 1px rgba(0, 0, 0, 0.15);\n",
              "      filter: drop-shadow(0px 1px 2px rgba(0, 0, 0, 0.3));\n",
              "      fill: #FFFFFF;\n",
              "    }\n",
              "  </style>\n",
              "\n",
              "      <script>\n",
              "        const buttonEl =\n",
              "          document.querySelector('#df-b207eb65-79d4-461b-bf98-574761bd99de button.colab-df-convert');\n",
              "        buttonEl.style.display =\n",
              "          google.colab.kernel.accessAllowed ? 'block' : 'none';\n",
              "\n",
              "        async function convertToInteractive(key) {\n",
              "          const element = document.querySelector('#df-b207eb65-79d4-461b-bf98-574761bd99de');\n",
              "          const dataTable =\n",
              "            await google.colab.kernel.invokeFunction('convertToInteractive',\n",
              "                                                     [key], {});\n",
              "          if (!dataTable) return;\n",
              "\n",
              "          const docLinkHtml = 'Like what you see? Visit the ' +\n",
              "            '<a target=\"_blank\" href=https://colab.research.google.com/notebooks/data_table.ipynb>data table notebook</a>'\n",
              "            + ' to learn more about interactive tables.';\n",
              "          element.innerHTML = '';\n",
              "          dataTable['output_type'] = 'display_data';\n",
              "          await google.colab.output.renderOutput(dataTable, element);\n",
              "          const docLink = document.createElement('div');\n",
              "          docLink.innerHTML = docLinkHtml;\n",
              "          element.appendChild(docLink);\n",
              "        }\n",
              "      </script>\n",
              "    </div>\n",
              "  </div>\n",
              "  "
            ]
          },
          "metadata": {},
          "execution_count": 12
        }
      ]
    },
    {
      "cell_type": "code",
      "source": [
        "df2.to_csv(datapath + \"train_sent_emo_processed.csv\")\n",
        "df3.to_csv(datapath + \"test_sent_emo_processed.csv\")"
      ],
      "metadata": {
        "id": "BCAqryQZnR7w"
      },
      "execution_count": null,
      "outputs": []
    },
    {
      "cell_type": "markdown",
      "source": [
        "# Dataloader"
      ],
      "metadata": {
        "id": "g_b4EhQAeXrt"
      }
    },
    {
      "cell_type": "code",
      "source": [
        "# defining txt and label object type (container, not actual data)\n",
        "txt_field = data.Field(tokenize=word_tokenize, lower=True, include_lengths=True, batch_first=True)\n",
        "label_field = data.Field(sequential=False, use_vocab=False, batch_first=True)\n",
        "id_field = data.Field(sequential=False, use_vocab=False, batch_first=True)"
      ],
      "metadata": {
        "id": "pGKAsfxIc3GV"
      },
      "execution_count": null,
      "outputs": []
    },
    {
      "cell_type": "code",
      "source": [
        "full= TabularDataset(path=datapath + \"train_sent_emo_processed.csv\",format='csv', \n",
        "                                  fields=[('id',id_field), ('text', txt_field), ('label', label_field)], skip_header=True)\n",
        "txt_field.build_vocab(full, min_freq=5)\n",
        "\n",
        "test_full= TabularDataset(path=datapath + \"test_sent_emo_processed.csv\",format='csv', \n",
        "                                  fields=[('id',id_field), ('text', txt_field), ('label', label_field)], skip_header=True)\n",
        "\n",
        "#label_field.build_vocab(full)"
      ],
      "metadata": {
        "id": "pnKrPH3seczR"
      },
      "execution_count": null,
      "outputs": []
    },
    {
      "cell_type": "code",
      "source": [
        "import math\n",
        "full_iter = data.Iterator(full, batch_size = 30)\n",
        "\n",
        "min_vocab =  math.inf\n",
        "max_vocab = 0\n",
        "max_len = 0\n",
        "cnt = 0\n",
        "for i in full_iter:\n",
        "  tex, tex_len = i.text\n",
        "  max_tex_len=torch.max(tex_len).item()\n",
        "  vocab = torch.max(tex).item()\n",
        "  vocab_low = torch.min(tex).item()\n",
        "  #print('max_tex_len=',max_tex_len)\n",
        "  #print('vocab=',vocab)\n",
        "  if max_vocab < vocab:\n",
        "    max_vocab = vocab\n",
        "  if max_len < max_tex_len:\n",
        "    max_len = max_tex_len\n",
        "  if min_vocab > vocab_low:\n",
        "    min_vocab = vocab_low\n",
        "  cnt+=1\n",
        "print(max_len)\n",
        "print(max_vocab)\n",
        "print(min_vocab)\n",
        "#print(cnt)"
      ],
      "metadata": {
        "colab": {
          "base_uri": "https://localhost:8080/"
        },
        "id": "N5jziZVHe1MU",
        "outputId": "655501e2-383c-4db9-92b2-bbe204078faa"
      },
      "execution_count": null,
      "outputs": [
        {
          "output_type": "stream",
          "name": "stdout",
          "text": [
            "91\n",
            "1270\n",
            "0\n"
          ]
        }
      ]
    },
    {
      "cell_type": "code",
      "source": [
        "full_iter = data.Iterator(test_full, batch_size = 30)\n",
        "\n",
        "min_vocab =  math.inf\n",
        "max_vocab = 0\n",
        "max_len = 0\n",
        "cnt = 0\n",
        "for i in full_iter:\n",
        "  tex, tex_len = i.text\n",
        "  max_tex_len=torch.max(tex_len).item()\n",
        "  vocab = torch.max(tex).item()\n",
        "  vocab_low = torch.min(tex).item()\n",
        "  #print('max_tex_len=',max_tex_len)\n",
        "  #print('vocab=',vocab)\n",
        "  if max_vocab < vocab:\n",
        "    max_vocab = vocab\n",
        "  if max_len < max_tex_len:\n",
        "    max_len = max_tex_len\n",
        "  if min_vocab > vocab_low:\n",
        "    min_vocab = vocab_low\n",
        "  cnt+=1\n",
        "print(max_len)\n",
        "print(max_vocab)\n",
        "print(min_vocab)\n",
        "#print(cnt)"
      ],
      "metadata": {
        "colab": {
          "base_uri": "https://localhost:8080/"
        },
        "id": "-YAU3qb0xrcB",
        "outputId": "9275512e-9926-4860-d078-c94831cc7a6e"
      },
      "execution_count": null,
      "outputs": [
        {
          "output_type": "stream",
          "name": "stdout",
          "text": [
            "56\n",
            "1270\n",
            "0\n"
          ]
        }
      ]
    },
    {
      "cell_type": "code",
      "source": [
        "# make iterator for splits\n",
        "train, vali = full.split(split_ratio=0.8)\n",
        "train_iter, vali_iter,test_iter = data.BucketIterator.splits((train,vali,test_full), batch_size=30, \n",
        "                                                   sort_key=lambda x: len(x.text),sort_within_batch=True)\n"
      ],
      "metadata": {
        "id": "tad-9KLse445"
      },
      "execution_count": null,
      "outputs": []
    },
    {
      "cell_type": "markdown",
      "source": [
        "# Define baseline model\n"
      ],
      "metadata": {
        "id": "wG8ZfnF-dMKj"
      }
    },
    {
      "cell_type": "code",
      "source": [
        "import torch.nn as nn\n",
        "from torch.optim import Adam, SGD\n",
        "import torch.nn.functional as F\n",
        "\n",
        "class simple_RNN(nn.Module):\n",
        "    def __init__(self,n_vocab,n_class, embedding_dim, n_hidden, n_layers, dropout):\n",
        "        super(simple_RNN, self).__init__()\n",
        "        self.n_layers = n_layers\n",
        "        self.n_hidden = n_hidden\n",
        "        self.emb = nn.Embedding(n_vocab, embedding_dim)\n",
        "        self.rnn = nn.RNN(\n",
        "                input_size=embedding_dim,\n",
        "                hidden_size=embedding_dim,\n",
        "                num_layers=n_layers,\n",
        "                dropout=dropout,\n",
        "                batch_first=True\n",
        "        )\n",
        "        self.fc0 = nn.Linear( embedding_dim, embedding_dim)\n",
        "        self.fc = nn.Linear( embedding_dim, n_class)\n",
        "        self.sigmoid = nn.Sigmoid()\n",
        "        \n",
        "\n",
        "    def forward(self, sent):\n",
        "        # sent: batch_size, max_sent_len\n",
        "        # sent_len: batch_size\n",
        "        \n",
        "        sent_emb = F.relu(self.emb(sent)) #batch_size, max_sent_len, embedding_dim\n",
        "        #x, y, z = sent_emb.shape\n",
        "        #sent_emb = sent_emb[:,-1,:]\n",
        "        \n",
        "        # method 1\n",
        "        rnn_out, hidden = self.rnn(sent_emb)\n",
        "        \n",
        "        # method 2, pack the input sequence, more computationally efficient\n",
        "        #packed_embedded = nn.utils.rnn.pack_padded_sequence(sent_emb, src_len, batch_first=True)\n",
        "        #packed_outputs, hidden = self.rnn(packed_embedded)\n",
        "        #outputs, _ = torch.nn.utils.rnn.pad_packed_sequence(packed_outputs, batch_first=True)\n",
        "        \n",
        "        #output: batch_size, max_sent_len, n_hidden\n",
        "        #hidden: n_layer, batch_size, n_hidden \n",
        "        rnn_out = rnn_out[:, -1,:]\n",
        "        x = F.relu(self.fc0(rnn_out))   # batch_size, \n",
        "        x = F.relu(self.fc0(x))\n",
        "        x = F.relu(self.fc0(x))\n",
        "        prob = self.sigmoid(self.fc(x))\n",
        "\n",
        "        #output = ( prob > 0.5 ).float()\n",
        "        return prob"
      ],
      "metadata": {
        "id": "4jgSTaR_dOnW"
      },
      "execution_count": null,
      "outputs": []
    },
    {
      "cell_type": "code",
      "source": [
        "device = torch.device('cuda:0' if torch.cuda.is_available() else 'cpu')\n",
        "print('Current device:', device)"
      ],
      "metadata": {
        "colab": {
          "base_uri": "https://localhost:8080/"
        },
        "id": "SLhh7wFFdxAO",
        "outputId": "b0d1ac7a-de13-4169-cf0f-93205ffca4b6"
      },
      "execution_count": null,
      "outputs": [
        {
          "output_type": "stream",
          "name": "stdout",
          "text": [
            "Current device: cuda:0\n"
          ]
        }
      ]
    },
    {
      "cell_type": "code",
      "source": [
        "# define parameters\n",
        "n_vocab = max_vocab +1\n",
        "embedding_dim = 200\n",
        "\n",
        "n_hidden = 128\n",
        "n_layers = 8\n",
        "dropout = 0.\n",
        "n_class = 7\n",
        "#lr = 0.001\n",
        "\n",
        "# build model\n",
        "criterion = torch.nn.CrossEntropyLoss()\n",
        "model = simple_RNN( n_vocab,n_class, embedding_dim, n_hidden, n_layers, dropout).to(device)\n",
        "#optimizer = Adam(model.parameters(), lr=lr)"
      ],
      "metadata": {
        "id": "Y3SerJ1jd4BD"
      },
      "execution_count": null,
      "outputs": []
    },
    {
      "cell_type": "code",
      "source": [
        "def count_parameters(model):\n",
        "    temp = sum(p.numel() for p in model.parameters() if p.requires_grad)\n",
        "    print(f'The model architecture:\\n\\n', model)\n",
        "    print(f'\\nThe model has {temp:,} trainable parameters')\n",
        "    \n",
        "count_parameters(model)"
      ],
      "metadata": {
        "colab": {
          "base_uri": "https://localhost:8080/"
        },
        "id": "aHY1Khhzd7vY",
        "outputId": "bc48e3d8-56d9-4ea7-96f4-dd9b8d59b342"
      },
      "execution_count": null,
      "outputs": [
        {
          "output_type": "stream",
          "name": "stdout",
          "text": [
            "The model architecture:\n",
            "\n",
            " simple_RNN(\n",
            "  (emb): Embedding(1271, 200)\n",
            "  (rnn): RNN(200, 200, num_layers=8, batch_first=True)\n",
            "  (fc0): Linear(in_features=200, out_features=200, bias=True)\n",
            "  (fc): Linear(in_features=200, out_features=7, bias=True)\n",
            "  (sigmoid): Sigmoid()\n",
            ")\n",
            "\n",
            "The model has 939,007 trainable parameters\n"
          ]
        }
      ]
    },
    {
      "cell_type": "markdown",
      "source": [
        "# Training"
      ],
      "metadata": {
        "id": "LLt-MV2ad-Hx"
      }
    },
    {
      "cell_type": "code",
      "source": [
        "# training helper function \n",
        "\n",
        "def save_checkpoint(save_path, model, optimizer, val_loss):\n",
        "    if save_path==None:\n",
        "        return\n",
        "    save_path = save_path \n",
        "    state_dict = {'model_state_dict': model.state_dict(),\n",
        "                  'optimizer_state_dict': optimizer.state_dict(),\n",
        "                  'val_loss': val_loss}\n",
        "\n",
        "    torch.save(state_dict, save_path)\n",
        "\n",
        "    print(f'Model saved to ==> {save_path}')\n",
        "\n",
        "def load_checkpoint(model, optimizer, save_path):\n",
        "    state_dict = torch.load(save_path)\n",
        "    model.load_state_dict(state_dict['model_state_dict'])\n",
        "    optimizer.load_state_dict(state_dict['optimizer_state_dict'])\n",
        "    val_loss = state_dict['val_loss']\n",
        "    print(f'Model loaded from <== {save_path}')\n",
        "    \n",
        "    return val_loss"
      ],
      "metadata": {
        "id": "soXACIebd_Jx"
      },
      "execution_count": null,
      "outputs": []
    },
    {
      "cell_type": "code",
      "source": [
        "# main training function \n",
        "\n",
        "def TRAIN(model, train_iter, valid_iter,  num_epochs, eval_every, total_step, criterion, optimizer, val_loss, device, save_name):\n",
        "    \n",
        "    running_loss = 0.0\n",
        "    global_step = 0\n",
        "    if val_loss==None:\n",
        "        best_val_loss = float(\"Inf\")  \n",
        "    else: \n",
        "        best_val_loss=val_loss\n",
        "    train_loss_ls=[]\n",
        "    val_loss_ls=[]\n",
        "    model.to(device)\n",
        "    for epoch in range(num_epochs):  # loop over the dataset multiple times\n",
        "\n",
        "        for i in train_iter:\n",
        "            inputs, inputs_len = i.text\n",
        "            #dim1, dim2 = inputs.shape\n",
        "            #print('inputs',inputs.shape)\n",
        "            #if dim1 != 30:\n",
        "              #continue\n",
        "            labels = i.label\n",
        "            model.train()\n",
        "            inputs = inputs.to(device)\n",
        "            labels = labels.to(device)\n",
        "\n",
        "            '''Training of the model'''\n",
        "            # Forward pass\n",
        "            outputs = model(inputs)\n",
        "            #loss = criterion(outputs[:,-1,:], labels[:,-1,:])\n",
        "            #print('inputs',inputs.shape)\n",
        "            #print('outputs',outputs[:,-1].shape)\n",
        "            #print('labels',labels.shape)\n",
        "            labels = torch.tensor(labels, dtype=torch.long)\n",
        "            loss = criterion(outputs, labels)\n",
        "            #loss.requres_grad = True\n",
        "\n",
        "            # Backward and optimize\n",
        "            optimizer.zero_grad()\n",
        "            loss.backward()\n",
        "            optimizer.step()\n",
        "            global_step += 1\n",
        "\n",
        "            running_loss += loss.item()\n",
        "\n",
        "            '''Evaluating the model every x steps'''\n",
        "            if global_step % eval_every == 0:\n",
        "                with torch.no_grad():\n",
        "                    model.eval()\n",
        "                    val_running_loss = 0.0\n",
        "                    num=0\n",
        "                    for j in vali_iter:\n",
        "                        val_inputs, val_inputs_len = j.text\n",
        "                        val_labels = j.label\n",
        "                        val_labels = torch.tensor( val_labels, dtype=torch.long)\n",
        "                        val_inputs = val_inputs.to(device)\n",
        "                        val_labels = val_labels.to(device)\n",
        "                        val_outputs =  model(val_inputs)\n",
        "                        #val_loss = criterion(val_outputs[:,-1,:], val_labels[:,-1,:])\n",
        "                        val_loss = criterion(val_outputs, val_labels)\n",
        "                        val_running_loss += val_loss.item()\n",
        "                        num+=1\n",
        "\n",
        "                    average_train_loss = running_loss / eval_every\n",
        "                    average_val_loss = val_running_loss / num\n",
        "\n",
        "                    print('Epoch [{}/{}], Step [{}/{}], Train Loss: {:.4f}, Valid Loss: {:.4f}' \n",
        "                          .format(epoch+1, num_epochs, global_step, total_step, average_train_loss, average_val_loss))\n",
        "                    train_loss_ls.append(average_train_loss)\n",
        "                    val_loss_ls.append(average_val_loss)\n",
        "                    running_loss = 0.0\n",
        "                    if average_val_loss < best_val_loss:\n",
        "                        best_val_loss = average_val_loss\n",
        "                        save_checkpoint(save_name, model, optimizer, best_val_loss)\n",
        "    \n",
        "    np.save('/content/drive/My Drive/cnn/train_loss.npy',train_loss_ls)\n",
        "    np.save('/content/drive/My Drive/cnn/val_loss.npy',val_loss_ls)                \n",
        "    print('Finished Training')"
      ],
      "metadata": {
        "id": "ECIp6W09eDPI"
      },
      "execution_count": null,
      "outputs": []
    },
    {
      "cell_type": "code",
      "source": [
        "n_epochs = 15\n",
        "val_loss = None\n",
        "save_name = '/content/drive/My Drive/kaggle_rnn/simple_rnn_model'\n",
        "eval_every = 200\n",
        "total_step = len(train)*n_epochs\n",
        "optimizer = SGD(model.parameters(), lr=0.0004, momentum=0.9)\n",
        "\n",
        "#start training\n",
        "TRAIN(model, train_iter, vali_iter,  n_epochs, \n",
        "      eval_every, total_step, criterion, optimizer, val_loss, device, save_name)"
      ],
      "metadata": {
        "colab": {
          "base_uri": "https://localhost:8080/"
        },
        "id": "sPqITZMweJew",
        "outputId": "b50a639f-d7d4-4079-88ee-500d73096c25"
      },
      "execution_count": null,
      "outputs": [
        {
          "output_type": "stream",
          "name": "stderr",
          "text": [
            "<ipython-input-145-934a7172928b>:34: UserWarning: To copy construct from a tensor, it is recommended to use sourceTensor.clone().detach() or sourceTensor.clone().detach().requires_grad_(True), rather than torch.tensor(sourceTensor).\n",
            "  labels = torch.tensor(labels, dtype=torch.long)\n",
            "<ipython-input-145-934a7172928b>:55: UserWarning: To copy construct from a tensor, it is recommended to use sourceTensor.clone().detach() or sourceTensor.clone().detach().requires_grad_(True), rather than torch.tensor(sourceTensor).\n",
            "  val_labels = torch.tensor( val_labels, dtype=torch.long)\n"
          ]
        },
        {
          "output_type": "stream",
          "name": "stdout",
          "text": [
            "Epoch [1/15], Step [200/119865], Train Loss: 1.9419, Valid Loss: 1.9365\n",
            "Model saved to ==> /content/drive/My Drive/kaggle_rnn/simple_rnn_model\n",
            "Epoch [2/15], Step [400/119865], Train Loss: 1.9311, Valid Loss: 1.9253\n",
            "Model saved to ==> /content/drive/My Drive/kaggle_rnn/simple_rnn_model\n",
            "Epoch [3/15], Step [600/119865], Train Loss: 1.9205, Valid Loss: 1.9139\n",
            "Model saved to ==> /content/drive/My Drive/kaggle_rnn/simple_rnn_model\n",
            "Epoch [3/15], Step [800/119865], Train Loss: 1.9082, Valid Loss: 1.9016\n",
            "Model saved to ==> /content/drive/My Drive/kaggle_rnn/simple_rnn_model\n",
            "Epoch [4/15], Step [1000/119865], Train Loss: 1.8965, Valid Loss: 1.8886\n",
            "Model saved to ==> /content/drive/My Drive/kaggle_rnn/simple_rnn_model\n",
            "Epoch [5/15], Step [1200/119865], Train Loss: 1.8824, Valid Loss: 1.8741\n",
            "Model saved to ==> /content/drive/My Drive/kaggle_rnn/simple_rnn_model\n",
            "Epoch [6/15], Step [1400/119865], Train Loss: 1.8683, Valid Loss: 1.8580\n",
            "Model saved to ==> /content/drive/My Drive/kaggle_rnn/simple_rnn_model\n",
            "Epoch [6/15], Step [1600/119865], Train Loss: 1.8512, Valid Loss: 1.8390\n",
            "Model saved to ==> /content/drive/My Drive/kaggle_rnn/simple_rnn_model\n",
            "Epoch [7/15], Step [1800/119865], Train Loss: 1.8311, Valid Loss: 1.8160\n",
            "Model saved to ==> /content/drive/My Drive/kaggle_rnn/simple_rnn_model\n",
            "Epoch [8/15], Step [2000/119865], Train Loss: 1.8023, Valid Loss: 1.7865\n",
            "Model saved to ==> /content/drive/My Drive/kaggle_rnn/simple_rnn_model\n",
            "Epoch [9/15], Step [2200/119865], Train Loss: 1.7795, Valid Loss: 1.7540\n",
            "Model saved to ==> /content/drive/My Drive/kaggle_rnn/simple_rnn_model\n",
            "Epoch [9/15], Step [2400/119865], Train Loss: 1.7449, Valid Loss: 1.7231\n",
            "Model saved to ==> /content/drive/My Drive/kaggle_rnn/simple_rnn_model\n",
            "Epoch [10/15], Step [2600/119865], Train Loss: 1.7196, Valid Loss: 1.7008\n",
            "Model saved to ==> /content/drive/My Drive/kaggle_rnn/simple_rnn_model\n",
            "Epoch [11/15], Step [2800/119865], Train Loss: 1.7045, Valid Loss: 1.6887\n",
            "Model saved to ==> /content/drive/My Drive/kaggle_rnn/simple_rnn_model\n",
            "Epoch [12/15], Step [3000/119865], Train Loss: 1.6932, Valid Loss: 1.6815\n",
            "Model saved to ==> /content/drive/My Drive/kaggle_rnn/simple_rnn_model\n",
            "Epoch [12/15], Step [3200/119865], Train Loss: 1.6898, Valid Loss: 1.6776\n",
            "Model saved to ==> /content/drive/My Drive/kaggle_rnn/simple_rnn_model\n",
            "Epoch [13/15], Step [3400/119865], Train Loss: 1.6845, Valid Loss: 1.6753\n",
            "Model saved to ==> /content/drive/My Drive/kaggle_rnn/simple_rnn_model\n",
            "Epoch [14/15], Step [3600/119865], Train Loss: 1.6866, Valid Loss: 1.6739\n",
            "Model saved to ==> /content/drive/My Drive/kaggle_rnn/simple_rnn_model\n",
            "Epoch [15/15], Step [3800/119865], Train Loss: 1.6836, Valid Loss: 1.6733\n",
            "Model saved to ==> /content/drive/My Drive/kaggle_rnn/simple_rnn_model\n",
            "Epoch [15/15], Step [4000/119865], Train Loss: 1.6816, Valid Loss: 1.6724\n",
            "Model saved to ==> /content/drive/My Drive/kaggle_rnn/simple_rnn_model\n",
            "Finished Training\n"
          ]
        }
      ]
    },
    {
      "cell_type": "markdown",
      "source": [
        "# Plot training result"
      ],
      "metadata": {
        "id": "OND0KA8coXJ5"
      }
    },
    {
      "cell_type": "code",
      "source": [
        "def plot(model, dataloader):\n",
        "    true = []\n",
        "    pred = []\n",
        "    with torch.no_grad():\n",
        "        model.eval()\n",
        "        for inputs, labels in dataloader:\n",
        "            outputs = model(inputs)\n",
        "            true.append(labels.numpy().reshape(-1)[-1])\n",
        "            pred.append(outputs.detach().numpy().reshape(-1)[-1])\n",
        "    return true, pred"
      ],
      "metadata": {
        "id": "I_M1x4VOn5Sb"
      },
      "execution_count": null,
      "outputs": []
    },
    {
      "cell_type": "code",
      "source": [
        "optimizer = SGD(model.parameters(), lr=0.0004, momentum=0.9)\n",
        "load_checkpoint(model, optimizer, save_name)"
      ],
      "metadata": {
        "colab": {
          "base_uri": "https://localhost:8080/"
        },
        "id": "ZPIsZpkuoZIo",
        "outputId": "c8ffec0c-35f9-4911-e711-9fcaebf815d0"
      },
      "execution_count": null,
      "outputs": [
        {
          "output_type": "stream",
          "name": "stdout",
          "text": [
            "Model loaded from <== /content/drive/My Drive/kaggle_rnn/simple_rnn_model\n"
          ]
        },
        {
          "output_type": "execute_result",
          "data": {
            "text/plain": [
              "1.672401855241007"
            ]
          },
          "metadata": {},
          "execution_count": 148
        }
      ]
    },
    {
      "cell_type": "code",
      "source": [
        "train_loss=np.load('/content/drive/My Drive/cnn/train_loss.npy')\n",
        "val_loss=np.load('/content/drive/My Drive/cnn/val_loss.npy')\n",
        "t= np.arange(len(train_loss))\n",
        "plt.plot(t,train_loss,c='red',label='train loss')\n",
        "plt.plot(t,val_loss,c='blue',label='validation loss')\n",
        "plt.legend()\n",
        "plt.savefig(datapath + 'loss.png')"
      ],
      "metadata": {
        "colab": {
          "base_uri": "https://localhost:8080/",
          "height": 265
        },
        "id": "-Q69mtN1odRc",
        "outputId": "39a7c454-ef14-4a3b-dfdc-901963ea6375"
      },
      "execution_count": null,
      "outputs": [
        {
          "output_type": "display_data",
          "data": {
            "text/plain": [
              "<Figure size 432x288 with 1 Axes>"
            ],
            "image/png": "[encoded data removed]"
          },
          "metadata": {
            "needs_background": "light"
          }
        }
      ]
    },
    {
      "cell_type": "code",
      "source": [],
      "metadata": {
        "id": "XfFauimjEMwo"
      },
      "execution_count": null,
      "outputs": []
    },
    {
      "cell_type": "markdown",
      "source": [
        "# Test prediction"
      ],
      "metadata": {
        "id": "k238yEt_ENFb"
      }
    },
    {
      "cell_type": "code",
      "source": [
        "from sklearn.metrics import classification_report, confusion_matrix, roc_curve\n",
        "\n",
        "\n",
        "for i in test_iter:\n",
        "  lab = i.label\n",
        "  text, len_text = i.text\n",
        "\n",
        "predict = model(text.to(device))\n",
        "print(predict.shape)\n",
        "print(lab.shape)\n",
        "pred = (predict.argmax(axis=1)).float()"
      ],
      "metadata": {
        "id": "lL4CI3r9oecH",
        "colab": {
          "base_uri": "https://localhost:8080/"
        },
        "outputId": "f84fe9e6-8b8f-413f-abb8-d6a02007859e"
      },
      "execution_count": null,
      "outputs": [
        {
          "output_type": "stream",
          "name": "stdout",
          "text": [
            "torch.Size([30, 7])\n",
            "torch.Size([30])\n"
          ]
        }
      ]
    },
    {
      "cell_type": "code",
      "source": [
        "pred = pred.cpu()\n",
        "print(pred)\n",
        "print(lab)"
      ],
      "metadata": {
        "id": "8tcfHkOIou7U",
        "colab": {
          "base_uri": "https://localhost:8080/"
        },
        "outputId": "edea3e9e-6dd1-4f4f-ff8f-121fdc279e91"
      },
      "execution_count": null,
      "outputs": [
        {
          "output_type": "stream",
          "name": "stdout",
          "text": [
            "tensor([4., 4., 4., 4., 4., 4., 4., 4., 4., 4., 4., 4., 4., 4., 4., 4., 4., 4.,\n",
            "        4., 4., 4., 4., 4., 4., 4., 4., 4., 4., 4., 4.])\n",
            "tensor([3, 0, 4, 4, 0, 4, 0, 4, 4, 5, 5, 4, 4, 0, 4, 4, 2, 4, 4, 6, 5, 4, 4, 5,\n",
            "        3, 5, 4, 6, 0, 4])\n"
          ]
        }
      ]
    },
    {
      "cell_type": "code",
      "source": [
        "print(classification_report(lab, pred))"
      ],
      "metadata": {
        "colab": {
          "base_uri": "https://localhost:8080/"
        },
        "id": "CNXIcnOSow59",
        "outputId": "56db3b37-ecff-45dd-d532-02ba5e73fde2"
      },
      "execution_count": null,
      "outputs": [
        {
          "output_type": "stream",
          "name": "stdout",
          "text": [
            "              precision    recall  f1-score   support\n",
            "\n",
            "           0       0.00      0.00      0.00         5\n",
            "           2       0.00      0.00      0.00         1\n",
            "           3       0.00      0.00      0.00         2\n",
            "           4       0.50      1.00      0.67        15\n",
            "           5       0.00      0.00      0.00         5\n",
            "           6       0.00      0.00      0.00         2\n",
            "\n",
            "    accuracy                           0.50        30\n",
            "   macro avg       0.08      0.17      0.11        30\n",
            "weighted avg       0.25      0.50      0.33        30\n",
            "\n"
          ]
        },
        {
          "output_type": "stream",
          "name": "stderr",
          "text": [
            "/usr/local/lib/python3.8/dist-packages/sklearn/metrics/_classification.py:1318: UndefinedMetricWarning: Precision and F-score are ill-defined and being set to 0.0 in labels with no predicted samples. Use `zero_division` parameter to control this behavior.\n",
            "  _warn_prf(average, modifier, msg_start, len(result))\n",
            "/usr/local/lib/python3.8/dist-packages/sklearn/metrics/_classification.py:1318: UndefinedMetricWarning: Precision and F-score are ill-defined and being set to 0.0 in labels with no predicted samples. Use `zero_division` parameter to control this behavior.\n",
            "  _warn_prf(average, modifier, msg_start, len(result))\n",
            "/usr/local/lib/python3.8/dist-packages/sklearn/metrics/_classification.py:1318: UndefinedMetricWarning: Precision and F-score are ill-defined and being set to 0.0 in labels with no predicted samples. Use `zero_division` parameter to control this behavior.\n",
            "  _warn_prf(average, modifier, msg_start, len(result))\n"
          ]
        }
      ]
    },
    {
      "cell_type": "code",
      "source": [],
      "metadata": {
        "id": "mDZ0QB4fEHjy"
      },
      "execution_count": null,
      "outputs": []
    },
    {
      "cell_type": "markdown",
      "source": [
        "# LSTM model"
      ],
      "metadata": {
        "id": "clZwYaMsEH3S"
      }
    },
    {
      "cell_type": "code",
      "source": [
        "class simple_LSTM(nn.Module):\n",
        "    def __init__(self,n_vocab, embedding_dim, n_hidden, n_layers, dropout):\n",
        "        super(simple_LSTM, self).__init__()\n",
        "        self.n_layers = n_layers\n",
        "        self.n_hidden = n_hidden\n",
        "        self.emb = nn.Embedding(n_vocab, embedding_dim)\n",
        "        self.rnn = nn.RNN(\n",
        "                input_size=embedding_dim,\n",
        "                hidden_size=embedding_dim,\n",
        "                num_layers=n_layers,\n",
        "                dropout=dropout,\n",
        "                batch_first=True\n",
        "        )\n",
        "        self.fc = nn.Linear( embedding_dim, 1)\n",
        "        self.sigmoid = nn.Sigmoid()\n",
        "\n",
        "    def forward(self, sent):\n",
        "        # sent: batch_size, max_sent_len\n",
        "        # sent_len: batch_size\n",
        "        \n",
        "        sent_emb = self.emb(sent)  #batch_size, max_sent_len, embedding_dim\n",
        "        #x, y, z = sent_emb.shape\n",
        "        #sent_emb = sent_emb[:,-1,:]\n",
        "        \n",
        "        # method 1\n",
        "        rnn_out, hidden = self.rnn(sent_emb)\n",
        "        \n",
        "        # method 2, pack the input sequence, more computationally efficient\n",
        "        #packed_embedded = nn.utils.rnn.pack_padded_sequence(sent_emb, src_len, batch_first=True)\n",
        "        #packed_outputs, hidden = self.rnn(packed_embedded)\n",
        "        #outputs, _ = torch.nn.utils.rnn.pad_packed_sequence(packed_outputs, batch_first=True)\n",
        "        \n",
        "        #output: batch_size, max_sent_len, n_hidden\n",
        "        #hidden: n_layer, batch_size, n_hidden \n",
        "        rnn_out = rnn_out[:, -1,:]\n",
        "        prob = self.sigmoid(self.fc(rnn_out))   # batch_size, \n",
        "        #output = ( prob > 0.5 ).float()\n",
        "        return prob"
      ],
      "metadata": {
        "id": "06g_wfHIozEY"
      },
      "execution_count": null,
      "outputs": []
    },
    {
      "cell_type": "code",
      "source": [],
      "metadata": {
        "id": "7HMd8KZeo21Y"
      },
      "execution_count": null,
      "outputs": []
    }
  ]
}