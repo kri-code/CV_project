{
  "nbformat": 4,
  "nbformat_minor": 0,
  "metadata": {
    "colab": {
      "provenance": []
    },
    "kernelspec": {
      "name": "python3",
      "display_name": "Python 3"
    },
    "language_info": {
      "name": "python"
    }
  },
  "cells": [
    {
      "cell_type": "code",
      "source": [
        "import torch\n",
        "import torch.nn as nn\n",
        "import torch.nn.functional as F"
      ],
      "metadata": {
        "id": "AZR96ed_fNqw"
      },
      "execution_count": null,
      "outputs": []
    },
    {
      "cell_type": "code",
      "execution_count": null,
      "metadata": {
        "id": "ryTDKhpKfFei"
      },
      "outputs": [],
      "source": [
        "class FusionNetwork(nn.Module):\n",
        "  '''\n",
        "  network that is used to transform the unimodal representations into fusion result\n",
        "  (fusion of video, audio and text modality) for classification\n",
        "  '''\n",
        "    def __init__(self):\n",
        "      super(FusionNetwork, self).__init__()\n",
        "\n",
        "      # MLP\n",
        "      self.layers = nn.Sequential( \n",
        "      nn.Linear(0, 64),  # Insert Input size (text + video + audio)\n",
        "      nn.ReLU(),\n",
        "      nn.Linear(64, 32),\n",
        "      nn.ReLU(),\n",
        "      nn.Linear(32, 7) # 7 classes\n",
        "    )\n",
        "    \n",
        "    def forward(self, text, video, audio):\n",
        "      final_embedding = torch.cat([text, video, audio], dim=1)  # concatenation\n",
        "\n",
        "\n",
        "      pred = self.layers(final_embedding) # put through mlp\n",
        "\n",
        "      return pred"
      ]
    }
  ]
}