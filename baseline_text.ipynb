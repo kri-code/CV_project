{
  "nbformat": 4,
  "nbformat_minor": 0,
  "metadata": {
    "colab": {
      "provenance": []
    },
    "kernelspec": {
      "name": "python3",
      "display_name": "Python 3"
    },
    "language_info": {
      "name": "python"
    }
  },
  "cells": [
    {
      "cell_type": "markdown",
      "source": [
        "# Set up environment"
      ],
      "metadata": {
        "id": "o7a7E9Rr21qq"
      }
    },
    {
      "cell_type": "code",
      "execution_count": null,
      "metadata": {
        "id": "JwGLIpxaoMF4"
      },
      "outputs": [],
      "source": [
        "!pip install torchtext==0.10.0"
      ]
    },
    {
      "cell_type": "code",
      "source": [
        "import numpy as np\n",
        "import matplotlib.pyplot as plt\n",
        "import os, sys\n",
        "import torch\n",
        "from torch.utils.data import Dataset, DataLoader, random_split\n",
        "import pandas as pd\n",
        "\n",
        "from sklearn.preprocessing import LabelEncoder\n",
        "import torchtext \n",
        "\n",
        "print(torchtext.__version__)\n",
        "# from torchtext.data import *\n",
        "from torchtext.legacy import *\n",
        "from torchtext.legacy.data import *\n",
        "import nltk\n",
        "nltk.download('punkt')\n",
        "from nltk import word_tokenize"
      ],
      "metadata": {
        "colab": {
          "base_uri": "https://localhost:8080/"
        },
        "id": "H-fZ4gn6o9HK",
        "outputId": "1bdd312b-d967-4a0e-c3c1-36c0ae276eca"
      },
      "execution_count": 267,
      "outputs": [
        {
          "output_type": "stream",
          "name": "stdout",
          "text": [
            "0.10.0\n"
          ]
        },
        {
          "output_type": "stream",
          "name": "stderr",
          "text": [
            "[nltk_data] Downloading package punkt to /root/nltk_data...\n",
            "[nltk_data]   Package punkt is already up-to-date!\n"
          ]
        }
      ]
    },
    {
      "cell_type": "markdown",
      "source": [
        "#Load dataset"
      ],
      "metadata": {
        "id": "LfImYxZf26AQ"
      }
    },
    {
      "cell_type": "code",
      "source": [
        "train_df = pd.read_csv(\"train_sent_emo.csv\")\n",
        "test_df = pd.read_csv(\"test_sent_emo.csv\")\n",
        "train_df"
      ],
      "metadata": {
        "colab": {
          "base_uri": "https://localhost:8080/",
          "height": 572
        },
        "id": "k1hn6jYzpCSf",
        "outputId": "7bdd238f-e5d7-4f2d-d5bd-ae15e9fae093"
      },
      "execution_count": 270,
      "outputs": [
        {
          "output_type": "execute_result",
          "data": {
            "text/plain": [
              "      Sr No.                                          Utterance  \\\n",
              "0          1  also I was the point person on my companys tr...   \n",
              "1          2                   You mustve had your hands full.   \n",
              "2          3                            That I did. That I did.   \n",
              "3          4      So lets talk a little bit about your duties.   \n",
              "4          5                             My duties?  All right.   \n",
              "...      ...                                                ...   \n",
              "9984   10474                                         You or me?   \n",
              "9985   10475  I got it. Uh, Joey, women don't have Adam's ap...   \n",
              "9986   10476               You guys are messing with me, right?   \n",
              "9987   10477                                              Yeah.   \n",
              "9988   10478  That was a good one. For a second there, I was...   \n",
              "\n",
              "              Speaker   Emotion Sentiment  Dialogue_ID  Utterance_ID  Season  \\\n",
              "0            Chandler   neutral   neutral            0             0       8   \n",
              "1     The Interviewer   neutral   neutral            0             1       8   \n",
              "2            Chandler   neutral   neutral            0             2       8   \n",
              "3     The Interviewer   neutral   neutral            0             3       8   \n",
              "4            Chandler  surprise  positive            0             4       8   \n",
              "...               ...       ...       ...          ...           ...     ...   \n",
              "9984         Chandler   neutral   neutral         1038            13       2   \n",
              "9985             Ross   neutral   neutral         1038            14       2   \n",
              "9986             Joey  surprise  positive         1038            15       2   \n",
              "9987              All   neutral   neutral         1038            16       2   \n",
              "9988             Joey       joy  positive         1038            17       2   \n",
              "\n",
              "      Episode     StartTime       EndTime  \n",
              "0          21  00:16:16,059  00:16:21,731  \n",
              "1          21  00:16:21,940  00:16:23,442  \n",
              "2          21  00:16:23,442  00:16:26,389  \n",
              "3          21  00:16:26,820  00:16:29,572  \n",
              "4          21  00:16:34,452  00:16:40,917  \n",
              "...       ...           ...           ...  \n",
              "9984        3  00:00:48,173  00:00:50,799  \n",
              "9985        3  00:00:51,009  00:00:53,594  \n",
              "9986        3  00:01:00,518  00:01:03,520  \n",
              "9987        3  00:01:05,398  00:01:07,274  \n",
              "9988        3  00:01:08,401  00:01:12,071  \n",
              "\n",
              "[9989 rows x 11 columns]"
            ],
            "text/html": [
              "\n",
              "  <div id=\"df-1e6620bb-daad-4b63-929b-04397406ef75\">\n",
              "    <div class=\"colab-df-container\">\n",
              "      <div>\n",
              "<style scoped>\n",
              "    .dataframe tbody tr th:only-of-type {\n",
              "        vertical-align: middle;\n",
              "    }\n",
              "\n",
              "    .dataframe tbody tr th {\n",
              "        vertical-align: top;\n",
              "    }\n",
              "\n",
              "    .dataframe thead th {\n",
              "        text-align: right;\n",
              "    }\n",
              "</style>\n",
              "<table border=\"1\" class=\"dataframe\">\n",
              "  <thead>\n",
              "    <tr style=\"text-align: right;\">\n",
              "      <th></th>\n",
              "      <th>Sr No.</th>\n",
              "      <th>Utterance</th>\n",
              "      <th>Speaker</th>\n",
              "      <th>Emotion</th>\n",
              "      <th>Sentiment</th>\n",
              "      <th>Dialogue_ID</th>\n",
              "      <th>Utterance_ID</th>\n",
              "      <th>Season</th>\n",
              "      <th>Episode</th>\n",
              "      <th>StartTime</th>\n",
              "      <th>EndTime</th>\n",
              "    </tr>\n",
              "  </thead>\n",
              "  <tbody>\n",
              "    <tr>\n",
              "      <th>0</th>\n",
              "      <td>1</td>\n",
              "      <td>also I was the point person on my companys tr...</td>\n",
              "      <td>Chandler</td>\n",
              "      <td>neutral</td>\n",
              "      <td>neutral</td>\n",
              "      <td>0</td>\n",
              "      <td>0</td>\n",
              "      <td>8</td>\n",
              "      <td>21</td>\n",
              "      <td>00:16:16,059</td>\n",
              "      <td>00:16:21,731</td>\n",
              "    </tr>\n",
              "    <tr>\n",
              "      <th>1</th>\n",
              "      <td>2</td>\n",
              "      <td>You mustve had your hands full.</td>\n",
              "      <td>The Interviewer</td>\n",
              "      <td>neutral</td>\n",
              "      <td>neutral</td>\n",
              "      <td>0</td>\n",
              "      <td>1</td>\n",
              "      <td>8</td>\n",
              "      <td>21</td>\n",
              "      <td>00:16:21,940</td>\n",
              "      <td>00:16:23,442</td>\n",
              "    </tr>\n",
              "    <tr>\n",
              "      <th>2</th>\n",
              "      <td>3</td>\n",
              "      <td>That I did. That I did.</td>\n",
              "      <td>Chandler</td>\n",
              "      <td>neutral</td>\n",
              "      <td>neutral</td>\n",
              "      <td>0</td>\n",
              "      <td>2</td>\n",
              "      <td>8</td>\n",
              "      <td>21</td>\n",
              "      <td>00:16:23,442</td>\n",
              "      <td>00:16:26,389</td>\n",
              "    </tr>\n",
              "    <tr>\n",
              "      <th>3</th>\n",
              "      <td>4</td>\n",
              "      <td>So lets talk a little bit about your duties.</td>\n",
              "      <td>The Interviewer</td>\n",
              "      <td>neutral</td>\n",
              "      <td>neutral</td>\n",
              "      <td>0</td>\n",
              "      <td>3</td>\n",
              "      <td>8</td>\n",
              "      <td>21</td>\n",
              "      <td>00:16:26,820</td>\n",
              "      <td>00:16:29,572</td>\n",
              "    </tr>\n",
              "    <tr>\n",
              "      <th>4</th>\n",
              "      <td>5</td>\n",
              "      <td>My duties?  All right.</td>\n",
              "      <td>Chandler</td>\n",
              "      <td>surprise</td>\n",
              "      <td>positive</td>\n",
              "      <td>0</td>\n",
              "      <td>4</td>\n",
              "      <td>8</td>\n",
              "      <td>21</td>\n",
              "      <td>00:16:34,452</td>\n",
              "      <td>00:16:40,917</td>\n",
              "    </tr>\n",
              "    <tr>\n",
              "      <th>...</th>\n",
              "      <td>...</td>\n",
              "      <td>...</td>\n",
              "      <td>...</td>\n",
              "      <td>...</td>\n",
              "      <td>...</td>\n",
              "      <td>...</td>\n",
              "      <td>...</td>\n",
              "      <td>...</td>\n",
              "      <td>...</td>\n",
              "      <td>...</td>\n",
              "      <td>...</td>\n",
              "    </tr>\n",
              "    <tr>\n",
              "      <th>9984</th>\n",
              "      <td>10474</td>\n",
              "      <td>You or me?</td>\n",
              "      <td>Chandler</td>\n",
              "      <td>neutral</td>\n",
              "      <td>neutral</td>\n",
              "      <td>1038</td>\n",
              "      <td>13</td>\n",
              "      <td>2</td>\n",
              "      <td>3</td>\n",
              "      <td>00:00:48,173</td>\n",
              "      <td>00:00:50,799</td>\n",
              "    </tr>\n",
              "    <tr>\n",
              "      <th>9985</th>\n",
              "      <td>10475</td>\n",
              "      <td>I got it. Uh, Joey, women don't have Adam's ap...</td>\n",
              "      <td>Ross</td>\n",
              "      <td>neutral</td>\n",
              "      <td>neutral</td>\n",
              "      <td>1038</td>\n",
              "      <td>14</td>\n",
              "      <td>2</td>\n",
              "      <td>3</td>\n",
              "      <td>00:00:51,009</td>\n",
              "      <td>00:00:53,594</td>\n",
              "    </tr>\n",
              "    <tr>\n",
              "      <th>9986</th>\n",
              "      <td>10476</td>\n",
              "      <td>You guys are messing with me, right?</td>\n",
              "      <td>Joey</td>\n",
              "      <td>surprise</td>\n",
              "      <td>positive</td>\n",
              "      <td>1038</td>\n",
              "      <td>15</td>\n",
              "      <td>2</td>\n",
              "      <td>3</td>\n",
              "      <td>00:01:00,518</td>\n",
              "      <td>00:01:03,520</td>\n",
              "    </tr>\n",
              "    <tr>\n",
              "      <th>9987</th>\n",
              "      <td>10477</td>\n",
              "      <td>Yeah.</td>\n",
              "      <td>All</td>\n",
              "      <td>neutral</td>\n",
              "      <td>neutral</td>\n",
              "      <td>1038</td>\n",
              "      <td>16</td>\n",
              "      <td>2</td>\n",
              "      <td>3</td>\n",
              "      <td>00:01:05,398</td>\n",
              "      <td>00:01:07,274</td>\n",
              "    </tr>\n",
              "    <tr>\n",
              "      <th>9988</th>\n",
              "      <td>10478</td>\n",
              "      <td>That was a good one. For a second there, I was...</td>\n",
              "      <td>Joey</td>\n",
              "      <td>joy</td>\n",
              "      <td>positive</td>\n",
              "      <td>1038</td>\n",
              "      <td>17</td>\n",
              "      <td>2</td>\n",
              "      <td>3</td>\n",
              "      <td>00:01:08,401</td>\n",
              "      <td>00:01:12,071</td>\n",
              "    </tr>\n",
              "  </tbody>\n",
              "</table>\n",
              "<p>9989 rows × 11 columns</p>\n",
              "</div>\n",
              "      <button class=\"colab-df-convert\" onclick=\"convertToInteractive('df-1e6620bb-daad-4b63-929b-04397406ef75')\"\n",
              "              title=\"Convert this dataframe to an interactive table.\"\n",
              "              style=\"display:none;\">\n",
              "        \n",
              "  <svg xmlns=\"http://www.w3.org/2000/svg\" height=\"24px\"viewBox=\"0 0 24 24\"\n",
              "       width=\"24px\">\n",
              "    <path d=\"M0 0h24v24H0V0z\" fill=\"none\"/>\n",
              "    <path d=\"M18.56 5.44l.94 2.06.94-2.06 2.06-.94-2.06-.94-.94-2.06-.94 2.06-2.06.94zm-11 1L8.5 8.5l.94-2.06 2.06-.94-2.06-.94L8.5 2.5l-.94 2.06-2.06.94zm10 10l.94 2.06.94-2.06 2.06-.94-2.06-.94-.94-2.06-.94 2.06-2.06.94z\"/><path d=\"M17.41 7.96l-1.37-1.37c-.4-.4-.92-.59-1.43-.59-.52 0-1.04.2-1.43.59L10.3 9.45l-7.72 7.72c-.78.78-.78 2.05 0 2.83L4 21.41c.39.39.9.59 1.41.59.51 0 1.02-.2 1.41-.59l7.78-7.78 2.81-2.81c.8-.78.8-2.07 0-2.86zM5.41 20L4 18.59l7.72-7.72 1.47 1.35L5.41 20z\"/>\n",
              "  </svg>\n",
              "      </button>\n",
              "      \n",
              "  <style>\n",
              "    .colab-df-container {\n",
              "      display:flex;\n",
              "      flex-wrap:wrap;\n",
              "      gap: 12px;\n",
              "    }\n",
              "\n",
              "    .colab-df-convert {\n",
              "      background-color: #E8F0FE;\n",
              "      border: none;\n",
              "      border-radius: 50%;\n",
              "      cursor: pointer;\n",
              "      display: none;\n",
              "      fill: #1967D2;\n",
              "      height: 32px;\n",
              "      padding: 0 0 0 0;\n",
              "      width: 32px;\n",
              "    }\n",
              "\n",
              "    .colab-df-convert:hover {\n",
              "      background-color: #E2EBFA;\n",
              "      box-shadow: 0px 1px 2px rgba(60, 64, 67, 0.3), 0px 1px 3px 1px rgba(60, 64, 67, 0.15);\n",
              "      fill: #174EA6;\n",
              "    }\n",
              "\n",
              "    [theme=dark] .colab-df-convert {\n",
              "      background-color: #3B4455;\n",
              "      fill: #D2E3FC;\n",
              "    }\n",
              "\n",
              "    [theme=dark] .colab-df-convert:hover {\n",
              "      background-color: #434B5C;\n",
              "      box-shadow: 0px 1px 3px 1px rgba(0, 0, 0, 0.15);\n",
              "      filter: drop-shadow(0px 1px 2px rgba(0, 0, 0, 0.3));\n",
              "      fill: #FFFFFF;\n",
              "    }\n",
              "  </style>\n",
              "\n",
              "      <script>\n",
              "        const buttonEl =\n",
              "          document.querySelector('#df-1e6620bb-daad-4b63-929b-04397406ef75 button.colab-df-convert');\n",
              "        buttonEl.style.display =\n",
              "          google.colab.kernel.accessAllowed ? 'block' : 'none';\n",
              "\n",
              "        async function convertToInteractive(key) {\n",
              "          const element = document.querySelector('#df-1e6620bb-daad-4b63-929b-04397406ef75');\n",
              "          const dataTable =\n",
              "            await google.colab.kernel.invokeFunction('convertToInteractive',\n",
              "                                                     [key], {});\n",
              "          if (!dataTable) return;\n",
              "\n",
              "          const docLinkHtml = 'Like what you see? Visit the ' +\n",
              "            '<a target=\"_blank\" href=https://colab.research.google.com/notebooks/data_table.ipynb>data table notebook</a>'\n",
              "            + ' to learn more about interactive tables.';\n",
              "          element.innerHTML = '';\n",
              "          dataTable['output_type'] = 'display_data';\n",
              "          await google.colab.output.renderOutput(dataTable, element);\n",
              "          const docLink = document.createElement('div');\n",
              "          docLink.innerHTML = docLinkHtml;\n",
              "          element.appendChild(docLink);\n",
              "        }\n",
              "      </script>\n",
              "    </div>\n",
              "  </div>\n",
              "  "
            ]
          },
          "metadata": {},
          "execution_count": 270
        }
      ]
    },
    {
      "cell_type": "markdown",
      "source": [
        "# Preprocessing"
      ],
      "metadata": {
        "id": "xnBXWzJJ2_oi"
      }
    },
    {
      "cell_type": "code",
      "source": [
        "train_df.Emotion.value_counts()"
      ],
      "metadata": {
        "colab": {
          "base_uri": "https://localhost:8080/"
        },
        "id": "gEErgAU5Yiod",
        "outputId": "778d65cc-0b8d-48b7-e5f1-82342a61ce76"
      },
      "execution_count": 271,
      "outputs": [
        {
          "output_type": "execute_result",
          "data": {
            "text/plain": [
              "neutral     4710\n",
              "joy         1743\n",
              "surprise    1205\n",
              "anger       1109\n",
              "sadness      683\n",
              "disgust      271\n",
              "fear         268\n",
              "Name: Emotion, dtype: int64"
            ]
          },
          "metadata": {},
          "execution_count": 271
        }
      ]
    },
    {
      "cell_type": "code",
      "source": [
        "train_df['Emotion'].value_counts().sort_values(ascending=False).plot(kind='bar', \n",
        "                                                                title='Number of emotions')\n",
        "\n"
      ],
      "metadata": {
        "colab": {
          "base_uri": "https://localhost:8080/",
          "height": 330
        },
        "id": "CeJQGTUQY1oD",
        "outputId": "661b282d-461a-4e5a-be40-52c11e78f62f"
      },
      "execution_count": 272,
      "outputs": [
        {
          "output_type": "execute_result",
          "data": {
            "text/plain": [
              "<matplotlib.axes._subplots.AxesSubplot at 0x7f26aa4887f0>"
            ]
          },
          "metadata": {},
          "execution_count": 272
        },
        {
          "output_type": "display_data",
          "data": {
            "text/plain": [
              "<Figure size 432x288 with 1 Axes>"
            ],
            "image/png": "[encoded data removed]"
          },
          "metadata": {
            "needs_background": "light"
          }
        }
      ]
    },
    {
      "cell_type": "code",
      "source": [
        "# label encoding (0 to 6)\n",
        "# anger = 0\n",
        "# disgust = 1\n",
        "# fear = 2\n",
        "# joy = 3\n",
        "# neutral = 4\n",
        "# sadness = 5\n",
        "# surprise = 6\n",
        "\n",
        "train_df[['Emotion']] = train_df[['Emotion']].apply(LabelEncoder().fit_transform) \n",
        "test_df[['Emotion']] = test_df[['Emotion']].apply(LabelEncoder().fit_transform) \n"
      ],
      "metadata": {
        "id": "lXkhtCFU82qh"
      },
      "execution_count": 273,
      "outputs": []
    },
    {
      "cell_type": "code",
      "source": [
        "df2 = train_df.drop(train_df.columns[[0,2,4,5,6,7,8,9,10]],axis=1)\n",
        "df3 = test_df.drop(train_df.columns[[0,2,4,5,6,7,8,9,10]],axis=1)\n",
        "\n",
        "df2"
      ],
      "metadata": {
        "colab": {
          "base_uri": "https://localhost:8080/",
          "height": 423
        },
        "id": "jChfpHBBpVj8",
        "outputId": "4201aac5-20d5-4d4a-8edf-9a92a4f158ec"
      },
      "execution_count": 274,
      "outputs": [
        {
          "output_type": "execute_result",
          "data": {
            "text/plain": [
              "                                              Utterance  Emotion\n",
              "0     also I was the point person on my companys tr...        4\n",
              "1                      You mustve had your hands full.        4\n",
              "2                               That I did. That I did.        4\n",
              "3         So lets talk a little bit about your duties.        4\n",
              "4                                My duties?  All right.        6\n",
              "...                                                 ...      ...\n",
              "9984                                         You or me?        4\n",
              "9985  I got it. Uh, Joey, women don't have Adam's ap...        4\n",
              "9986               You guys are messing with me, right?        6\n",
              "9987                                              Yeah.        4\n",
              "9988  That was a good one. For a second there, I was...        3\n",
              "\n",
              "[9989 rows x 2 columns]"
            ],
            "text/html": [
              "\n",
              "  <div id=\"df-a2e8a9e7-a2ce-42b1-b453-258b3c8b0c3b\">\n",
              "    <div class=\"colab-df-container\">\n",
              "      <div>\n",
              "<style scoped>\n",
              "    .dataframe tbody tr th:only-of-type {\n",
              "        vertical-align: middle;\n",
              "    }\n",
              "\n",
              "    .dataframe tbody tr th {\n",
              "        vertical-align: top;\n",
              "    }\n",
              "\n",
              "    .dataframe thead th {\n",
              "        text-align: right;\n",
              "    }\n",
              "</style>\n",
              "<table border=\"1\" class=\"dataframe\">\n",
              "  <thead>\n",
              "    <tr style=\"text-align: right;\">\n",
              "      <th></th>\n",
              "      <th>Utterance</th>\n",
              "      <th>Emotion</th>\n",
              "    </tr>\n",
              "  </thead>\n",
              "  <tbody>\n",
              "    <tr>\n",
              "      <th>0</th>\n",
              "      <td>also I was the point person on my companys tr...</td>\n",
              "      <td>4</td>\n",
              "    </tr>\n",
              "    <tr>\n",
              "      <th>1</th>\n",
              "      <td>You mustve had your hands full.</td>\n",
              "      <td>4</td>\n",
              "    </tr>\n",
              "    <tr>\n",
              "      <th>2</th>\n",
              "      <td>That I did. That I did.</td>\n",
              "      <td>4</td>\n",
              "    </tr>\n",
              "    <tr>\n",
              "      <th>3</th>\n",
              "      <td>So lets talk a little bit about your duties.</td>\n",
              "      <td>4</td>\n",
              "    </tr>\n",
              "    <tr>\n",
              "      <th>4</th>\n",
              "      <td>My duties?  All right.</td>\n",
              "      <td>6</td>\n",
              "    </tr>\n",
              "    <tr>\n",
              "      <th>...</th>\n",
              "      <td>...</td>\n",
              "      <td>...</td>\n",
              "    </tr>\n",
              "    <tr>\n",
              "      <th>9984</th>\n",
              "      <td>You or me?</td>\n",
              "      <td>4</td>\n",
              "    </tr>\n",
              "    <tr>\n",
              "      <th>9985</th>\n",
              "      <td>I got it. Uh, Joey, women don't have Adam's ap...</td>\n",
              "      <td>4</td>\n",
              "    </tr>\n",
              "    <tr>\n",
              "      <th>9986</th>\n",
              "      <td>You guys are messing with me, right?</td>\n",
              "      <td>6</td>\n",
              "    </tr>\n",
              "    <tr>\n",
              "      <th>9987</th>\n",
              "      <td>Yeah.</td>\n",
              "      <td>4</td>\n",
              "    </tr>\n",
              "    <tr>\n",
              "      <th>9988</th>\n",
              "      <td>That was a good one. For a second there, I was...</td>\n",
              "      <td>3</td>\n",
              "    </tr>\n",
              "  </tbody>\n",
              "</table>\n",
              "<p>9989 rows × 2 columns</p>\n",
              "</div>\n",
              "      <button class=\"colab-df-convert\" onclick=\"convertToInteractive('df-a2e8a9e7-a2ce-42b1-b453-258b3c8b0c3b')\"\n",
              "              title=\"Convert this dataframe to an interactive table.\"\n",
              "              style=\"display:none;\">\n",
              "        \n",
              "  <svg xmlns=\"http://www.w3.org/2000/svg\" height=\"24px\"viewBox=\"0 0 24 24\"\n",
              "       width=\"24px\">\n",
              "    <path d=\"M0 0h24v24H0V0z\" fill=\"none\"/>\n",
              "    <path d=\"M18.56 5.44l.94 2.06.94-2.06 2.06-.94-2.06-.94-.94-2.06-.94 2.06-2.06.94zm-11 1L8.5 8.5l.94-2.06 2.06-.94-2.06-.94L8.5 2.5l-.94 2.06-2.06.94zm10 10l.94 2.06.94-2.06 2.06-.94-2.06-.94-.94-2.06-.94 2.06-2.06.94z\"/><path d=\"M17.41 7.96l-1.37-1.37c-.4-.4-.92-.59-1.43-.59-.52 0-1.04.2-1.43.59L10.3 9.45l-7.72 7.72c-.78.78-.78 2.05 0 2.83L4 21.41c.39.39.9.59 1.41.59.51 0 1.02-.2 1.41-.59l7.78-7.78 2.81-2.81c.8-.78.8-2.07 0-2.86zM5.41 20L4 18.59l7.72-7.72 1.47 1.35L5.41 20z\"/>\n",
              "  </svg>\n",
              "      </button>\n",
              "      \n",
              "  <style>\n",
              "    .colab-df-container {\n",
              "      display:flex;\n",
              "      flex-wrap:wrap;\n",
              "      gap: 12px;\n",
              "    }\n",
              "\n",
              "    .colab-df-convert {\n",
              "      background-color: #E8F0FE;\n",
              "      border: none;\n",
              "      border-radius: 50%;\n",
              "      cursor: pointer;\n",
              "      display: none;\n",
              "      fill: #1967D2;\n",
              "      height: 32px;\n",
              "      padding: 0 0 0 0;\n",
              "      width: 32px;\n",
              "    }\n",
              "\n",
              "    .colab-df-convert:hover {\n",
              "      background-color: #E2EBFA;\n",
              "      box-shadow: 0px 1px 2px rgba(60, 64, 67, 0.3), 0px 1px 3px 1px rgba(60, 64, 67, 0.15);\n",
              "      fill: #174EA6;\n",
              "    }\n",
              "\n",
              "    [theme=dark] .colab-df-convert {\n",
              "      background-color: #3B4455;\n",
              "      fill: #D2E3FC;\n",
              "    }\n",
              "\n",
              "    [theme=dark] .colab-df-convert:hover {\n",
              "      background-color: #434B5C;\n",
              "      box-shadow: 0px 1px 3px 1px rgba(0, 0, 0, 0.15);\n",
              "      filter: drop-shadow(0px 1px 2px rgba(0, 0, 0, 0.3));\n",
              "      fill: #FFFFFF;\n",
              "    }\n",
              "  </style>\n",
              "\n",
              "      <script>\n",
              "        const buttonEl =\n",
              "          document.querySelector('#df-a2e8a9e7-a2ce-42b1-b453-258b3c8b0c3b button.colab-df-convert');\n",
              "        buttonEl.style.display =\n",
              "          google.colab.kernel.accessAllowed ? 'block' : 'none';\n",
              "\n",
              "        async function convertToInteractive(key) {\n",
              "          const element = document.querySelector('#df-a2e8a9e7-a2ce-42b1-b453-258b3c8b0c3b');\n",
              "          const dataTable =\n",
              "            await google.colab.kernel.invokeFunction('convertToInteractive',\n",
              "                                                     [key], {});\n",
              "          if (!dataTable) return;\n",
              "\n",
              "          const docLinkHtml = 'Like what you see? Visit the ' +\n",
              "            '<a target=\"_blank\" href=https://colab.research.google.com/notebooks/data_table.ipynb>data table notebook</a>'\n",
              "            + ' to learn more about interactive tables.';\n",
              "          element.innerHTML = '';\n",
              "          dataTable['output_type'] = 'display_data';\n",
              "          await google.colab.output.renderOutput(dataTable, element);\n",
              "          const docLink = document.createElement('div');\n",
              "          docLink.innerHTML = docLinkHtml;\n",
              "          element.appendChild(docLink);\n",
              "        }\n",
              "      </script>\n",
              "    </div>\n",
              "  </div>\n",
              "  "
            ]
          },
          "metadata": {},
          "execution_count": 274
        }
      ]
    },
    {
      "cell_type": "code",
      "source": [
        "df2.Emotion.value_counts()"
      ],
      "metadata": {
        "colab": {
          "base_uri": "https://localhost:8080/"
        },
        "id": "JiHfqD3HYcDD",
        "outputId": "5836973e-f952-4c88-8877-e28e53a2973e"
      },
      "execution_count": 275,
      "outputs": [
        {
          "output_type": "execute_result",
          "data": {
            "text/plain": [
              "4    4710\n",
              "3    1743\n",
              "6    1205\n",
              "0    1109\n",
              "5     683\n",
              "1     271\n",
              "2     268\n",
              "Name: Emotion, dtype: int64"
            ]
          },
          "metadata": {},
          "execution_count": 275
        }
      ]
    },
    {
      "cell_type": "markdown",
      "source": [
        "# Dataloader"
      ],
      "metadata": {
        "id": "QQPKoC3a3FUV"
      }
    },
    {
      "cell_type": "markdown",
      "source": [
        " create train,valid and test datasets"
      ],
      "metadata": {
        "id": "-sWjcxrug1uB"
      }
    },
    {
      "cell_type": "code",
      "source": [
        "from sklearn.model_selection import train_test_split\n",
        "from collections import Counter\n",
        "\n",
        "X_train, X_valid, Y_train, Y_valid= train_test_split(df2['Utterance'].tolist(),\\\n",
        "                                                      df2['Emotion'].tolist(),\\\n",
        "                                                      test_size=0.2,\\\n",
        "                                                      stratify = df2['Emotion'].tolist(),\\\n",
        "                                                      random_state=0)\n",
        "\n",
        "print('Train data len:'+str(len(X_train)))\n",
        "print('Class distribution'+str(Counter(Y_train)))\n",
        "\n",
        "\n",
        "print('Valid data len:'+str(len(X_valid)))\n",
        "print('Class distribution'+ str(Counter(Y_valid)))\n",
        "\n",
        "print('Test data len:'+str(len(df3['Utterance'].tolist())))\n",
        "print('Class distribution'+ str(Counter(df3['Emotion'].tolist())))\n",
        "\n",
        "\n",
        "train_dat =list(zip(Y_train,X_train))\n",
        "valid_dat =list(zip(Y_valid,X_valid))\n",
        "test_dat=list(zip(df3['Emotion'].tolist(),df3['Utterance'].tolist()))\n"
      ],
      "metadata": {
        "colab": {
          "base_uri": "https://localhost:8080/"
        },
        "id": "wM7VvkOFfr1i",
        "outputId": "6dd05f4f-429a-4e6d-83e0-9c83cda7631c"
      },
      "execution_count": 276,
      "outputs": [
        {
          "output_type": "stream",
          "name": "stdout",
          "text": [
            "Train data len:7991\n",
            "Class distributionCounter({4: 3768, 3: 1394, 6: 964, 0: 887, 5: 546, 1: 217, 2: 215})\n",
            "Valid data len:1998\n",
            "Class distributionCounter({4: 942, 3: 349, 6: 241, 0: 222, 5: 137, 1: 54, 2: 53})\n",
            "Test data len:2610\n",
            "Class distributionCounter({4: 1256, 3: 402, 0: 345, 6: 281, 5: 208, 1: 68, 2: 50})\n"
          ]
        }
      ]
    },
    {
      "cell_type": "code",
      "source": [
        "import torch\n",
        "from torch.utils.data import DataLoader\n",
        "device = torch.device(\"cuda\" if torch.cuda.is_available() else \"cpu\")"
      ],
      "metadata": {
        "id": "Iyj8rMxejCGm"
      },
      "execution_count": 277,
      "outputs": []
    },
    {
      "cell_type": "markdown",
      "source": [
        "create vocabulary on train data"
      ],
      "metadata": {
        "id": "z0ZPpjIuhFJt"
      }
    },
    {
      "cell_type": "code",
      "source": [
        "from torchtext.data.utils import get_tokenizer\n",
        "from torchtext.vocab import build_vocab_from_iterator\n",
        "\n",
        "tokenizer = get_tokenizer('basic_english')\n",
        "train_iter = train_dat\n",
        "def yield_tokens(data_iter):\n",
        "    for _, text in data_iter:\n",
        "        yield tokenizer(text)\n",
        "\n",
        "vocab = build_vocab_from_iterator(yield_tokens(train_iter), specials=[\"<unk>\"])\n",
        "vocab.set_default_index(vocab[\"<unk>\"])"
      ],
      "metadata": {
        "id": "8OXG-cSXhH6f"
      },
      "execution_count": 278,
      "outputs": []
    },
    {
      "cell_type": "markdown",
      "source": [
        "define text and label preprocessing pipelines"
      ],
      "metadata": {
        "id": "giW_GAwwhOji"
      }
    },
    {
      "cell_type": "code",
      "source": [
        "text_pipeline = lambda x: vocab(tokenizer(x))\n",
        "label_pipeline = lambda x: int(x) "
      ],
      "metadata": {
        "id": "_KOJLCtjhRgT"
      },
      "execution_count": 279,
      "outputs": []
    },
    {
      "cell_type": "code",
      "source": [
        "text_pipeline('here is an example')  # example"
      ],
      "metadata": {
        "colab": {
          "base_uri": "https://localhost:8080/"
        },
        "id": "I7xl94YkhVBS",
        "outputId": "8a78685f-4b69-4703-9437-461fd91a548c"
      },
      "execution_count": 251,
      "outputs": [
        {
          "output_type": "execute_result",
          "data": {
            "text/plain": [
              "[49, 16, 122, 3365]"
            ]
          },
          "metadata": {},
          "execution_count": 251
        }
      ]
    },
    {
      "cell_type": "code",
      "source": [
        "label_pipeline('1')  # example"
      ],
      "metadata": {
        "colab": {
          "base_uri": "https://localhost:8080/"
        },
        "id": "-Y1rbZWmhdcc",
        "outputId": "5a8ebb34-e4cc-413f-e147-94300e0d00dd"
      },
      "execution_count": 252,
      "outputs": [
        {
          "output_type": "execute_result",
          "data": {
            "text/plain": [
              "1"
            ]
          },
          "metadata": {},
          "execution_count": 252
        }
      ]
    },
    {
      "cell_type": "code",
      "source": [
        "def collate_batch(batch):\n",
        "    label_list, text_list, offsets = [], [], [0]\n",
        "    for (_label, _text) in batch:\n",
        "         label_list.append(label_pipeline(_label))\n",
        "         processed_text = torch.tensor(text_pipeline(_text), dtype=torch.int64)\n",
        "         text_list.append(processed_text)\n",
        "         offsets.append(processed_text.size(0))\n",
        "    label_list = torch.tensor(label_list, dtype=torch.int64)\n",
        "    offsets = torch.tensor(offsets[:-1]).cumsum(dim=0)\n",
        "    text_list = torch.cat(text_list)\n",
        "    return label_list.to(device), text_list.to(device), offsets.to(device)"
      ],
      "metadata": {
        "id": "4Godo-qZjVLh"
      },
      "execution_count": 280,
      "outputs": []
    },
    {
      "cell_type": "markdown",
      "source": [
        "# Text Classification Model"
      ],
      "metadata": {
        "id": "LuA1FUu4iD1Q"
      }
    },
    {
      "cell_type": "code",
      "source": [
        "from torch import nn\n",
        "import torch.nn.functional as F\n",
        "\n",
        "class TextClassificationModel(nn.Module):\n",
        "\n",
        "    def __init__(self, vocab_size, embed_dim, num_class):\n",
        "        super(TextClassificationModel, self).__init__()\n",
        "        self.embedding = nn.EmbeddingBag(vocab_size, embed_dim, sparse=True)\n",
        "        self.fc1 = nn.Linear(embed_dim,64)\n",
        "        self.fc2 = nn.Linear(64,16)\n",
        "        self.fc3 = nn.Linear(16, num_class)\n",
        "        self.init_weights()\n",
        "\n",
        "    def init_weights(self):\n",
        "        initrange = 0.5\n",
        "        self.embedding.weight.data.uniform_(-initrange, initrange)\n",
        "        self.fc1.weight.data.uniform_(-initrange, initrange)\n",
        "        self.fc1.bias.data.zero_()\n",
        "        self.fc2.weight.data.uniform_(-initrange, initrange)\n",
        "        self.fc2.bias.data.zero_()\n",
        "        self.fc3.weight.data.uniform_(-initrange, initrange)\n",
        "        self.fc3.bias.data.zero_()\n",
        "\n",
        "    def forward(self, text, offsets):\n",
        "        embedded = self.embedding(text, offsets)\n",
        "        x = F.relu(self.fc1(embedded))\n",
        "        x = F.relu(self.fc2(x))\n",
        "        x = self.fc3(x)\n",
        "        return x"
      ],
      "metadata": {
        "id": "KHhWW3XriJgD"
      },
      "execution_count": 314,
      "outputs": []
    },
    {
      "cell_type": "markdown",
      "source": [
        "create an object of text classification class"
      ],
      "metadata": {
        "id": "JftvM6VNicpY"
      }
    },
    {
      "cell_type": "code",
      "source": [
        "train_iter1 = train_dat\n",
        "num_class = 7\n",
        "vocab_size = len(vocab)\n",
        "emsize = 128\n",
        "model = TextClassificationModel(vocab_size, emsize, num_class)#.to(device)"
      ],
      "metadata": {
        "id": "vFUhOwZ6ijah"
      },
      "execution_count": 315,
      "outputs": []
    },
    {
      "cell_type": "markdown",
      "source": [
        "define train and evaluation loop"
      ],
      "metadata": {
        "id": "qlwyXU-yizfz"
      }
    },
    {
      "cell_type": "code",
      "source": [
        "import time\n",
        "\n",
        "def train(dataloader):\n",
        "    model.train()\n",
        "    total_acc, total_count = 0, 0\n",
        "    log_interval = 50\n",
        "    start_time = time.time()\n",
        "\n",
        "    for idx, (label, text, offsets) in enumerate(dataloader):\n",
        "        optimizer.zero_grad()\n",
        "        predited_label = model(text, offsets)\n",
        "        loss = criterion(predited_label, label)\n",
        "        loss.backward()\n",
        "        #torch.nn.utils.clip_grad_norm_(model.parameters(), 0.1)\n",
        "        optimizer.step()\n",
        "        total_acc += (predited_label.argmax(1) == label).sum().item()\n",
        "        total_count += label.size(0)\n",
        "        if idx % log_interval == 0 and idx > 0:\n",
        "            elapsed = time.time() - start_time\n",
        "            print('| epoch {:3d} | {:5d}/{:5d} batches '\n",
        "                  '| accuracy {:8.3f}'.format(epoch, idx, len(dataloader),\n",
        "                                              total_acc/total_count))\n",
        "            total_acc, total_count = 0, 0\n",
        "            start_time = time.time()\n",
        "\n",
        "def evaluate(dataloader):\n",
        "    model.eval()\n",
        "    total_acc, total_count = 0, 0\n",
        "\n",
        "    with torch.no_grad():\n",
        "        for idx, (label, text, offsets) in enumerate(dataloader):\n",
        "            predited_label = model(text, offsets)\n",
        "            loss = criterion(predited_label, label)\n",
        "            total_acc += (predited_label.argmax(1) == label).sum().item()\n",
        "            total_count += label.size(0)\n",
        "    return total_acc/total_count"
      ],
      "metadata": {
        "id": "GTb5dMWUi1W9"
      },
      "execution_count": 322,
      "outputs": []
    },
    {
      "cell_type": "markdown",
      "source": [
        "create dataloaders for text,train and validation data iterators and then train model"
      ],
      "metadata": {
        "id": "AozN40AjjJmG"
      }
    },
    {
      "cell_type": "code",
      "source": [
        "from torch.utils.data.dataset import random_split\n",
        "from torchtext.data.functional import to_map_style_dataset\n",
        "# Hyperparameters\n",
        "EPOCHS = 25 # epoch\n",
        "LR = 0.001  # learning rate\n",
        "BATCH_SIZE = 32 # batch size for training\n",
        "\n",
        "criterion = torch.nn.CrossEntropyLoss()\n",
        "optimizer = torch.optim.SGD(model.parameters(), lr=LR)\n",
        "scheduler = torch.optim.lr_scheduler.StepLR(optimizer, 1.0, gamma=0.1)\n",
        "total_accu = None\n",
        "\n",
        "train_iter2 = train_dat\n",
        "test_iter2 =test_dat \n",
        "valid_iter2= valid_dat\n",
        "\n",
        "\n",
        "\n",
        "\n",
        "train_dataloader = DataLoader(train_iter2, batch_size=BATCH_SIZE,\n",
        "                              shuffle=True, collate_fn=collate_batch)\n",
        "valid_dataloader = DataLoader(valid_iter2, batch_size=BATCH_SIZE,\n",
        "                              shuffle=True, collate_fn=collate_batch)\n",
        "test_dataloader = DataLoader(test_iter2, batch_size=BATCH_SIZE,\n",
        "                             shuffle=True, collate_fn=collate_batch)\n",
        "\n",
        "for epoch in range(1, EPOCHS + 1):\n",
        "    epoch_start_time = time.time()\n",
        "    train(train_dataloader)\n",
        "    accu_val = evaluate(valid_dataloader)\n",
        "    if total_accu is not None and total_accu > accu_val:\n",
        "      scheduler.step()\n",
        "    else:\n",
        "       total_accu = accu_val\n",
        "    print('-' * 59)\n",
        "    print('| end of epoch {:3d} | time: {:5.2f}s | '\n",
        "          'valid accuracy {:8.3f} '.format(epoch,\n",
        "                                           time.time() - epoch_start_time,\n",
        "                                           accu_val))\n",
        "    print('-' * 59)"
      ],
      "metadata": {
        "colab": {
          "base_uri": "https://localhost:8080/"
        },
        "id": "l9McK4lyjLnj",
        "outputId": "005c2a93-aacb-4099-e8b4-d2b54b37c9f5"
      },
      "execution_count": 324,
      "outputs": [
        {
          "output_type": "stream",
          "name": "stdout",
          "text": [
            "| epoch   1 |    50/  250 batches | accuracy    0.517\n",
            "| epoch   1 |   100/  250 batches | accuracy    0.496\n",
            "| epoch   1 |   150/  250 batches | accuracy    0.515\n",
            "| epoch   1 |   200/  250 batches | accuracy    0.499\n",
            "-----------------------------------------------------------\n",
            "| end of epoch   1 | time:  0.73s | valid accuracy    0.506 \n",
            "-----------------------------------------------------------\n",
            "| epoch   2 |    50/  250 batches | accuracy    0.499\n",
            "| epoch   2 |   100/  250 batches | accuracy    0.501\n",
            "| epoch   2 |   150/  250 batches | accuracy    0.526\n",
            "| epoch   2 |   200/  250 batches | accuracy    0.495\n",
            "-----------------------------------------------------------\n",
            "| end of epoch   2 | time:  0.71s | valid accuracy    0.508 \n",
            "-----------------------------------------------------------\n",
            "| epoch   3 |    50/  250 batches | accuracy    0.507\n",
            "| epoch   3 |   100/  250 batches | accuracy    0.521\n",
            "| epoch   3 |   150/  250 batches | accuracy    0.512\n",
            "| epoch   3 |   200/  250 batches | accuracy    0.504\n",
            "-----------------------------------------------------------\n",
            "| end of epoch   3 | time:  0.70s | valid accuracy    0.511 \n",
            "-----------------------------------------------------------\n",
            "| epoch   4 |    50/  250 batches | accuracy    0.504\n",
            "| epoch   4 |   100/  250 batches | accuracy    0.496\n",
            "| epoch   4 |   150/  250 batches | accuracy    0.527\n",
            "| epoch   4 |   200/  250 batches | accuracy    0.512\n",
            "-----------------------------------------------------------\n",
            "| end of epoch   4 | time:  0.68s | valid accuracy    0.512 \n",
            "-----------------------------------------------------------\n",
            "| epoch   5 |    50/  250 batches | accuracy    0.522\n",
            "| epoch   5 |   100/  250 batches | accuracy    0.531\n",
            "| epoch   5 |   150/  250 batches | accuracy    0.517\n",
            "| epoch   5 |   200/  250 batches | accuracy    0.508\n",
            "-----------------------------------------------------------\n",
            "| end of epoch   5 | time:  0.72s | valid accuracy    0.512 \n",
            "-----------------------------------------------------------\n",
            "| epoch   6 |    50/  250 batches | accuracy    0.537\n",
            "| epoch   6 |   100/  250 batches | accuracy    0.509\n",
            "| epoch   6 |   150/  250 batches | accuracy    0.504\n",
            "| epoch   6 |   200/  250 batches | accuracy    0.512\n",
            "-----------------------------------------------------------\n",
            "| end of epoch   6 | time:  0.69s | valid accuracy    0.512 \n",
            "-----------------------------------------------------------\n",
            "| epoch   7 |    50/  250 batches | accuracy    0.507\n",
            "| epoch   7 |   100/  250 batches | accuracy    0.508\n",
            "| epoch   7 |   150/  250 batches | accuracy    0.513\n",
            "| epoch   7 |   200/  250 batches | accuracy    0.527\n",
            "-----------------------------------------------------------\n",
            "| end of epoch   7 | time:  0.71s | valid accuracy    0.512 \n",
            "-----------------------------------------------------------\n",
            "| epoch   8 |    50/  250 batches | accuracy    0.515\n",
            "| epoch   8 |   100/  250 batches | accuracy    0.520\n",
            "| epoch   8 |   150/  250 batches | accuracy    0.528\n",
            "| epoch   8 |   200/  250 batches | accuracy    0.511\n",
            "-----------------------------------------------------------\n",
            "| end of epoch   8 | time:  0.68s | valid accuracy    0.512 \n",
            "-----------------------------------------------------------\n",
            "| epoch   9 |    50/  250 batches | accuracy    0.537\n",
            "| epoch   9 |   100/  250 batches | accuracy    0.519\n",
            "| epoch   9 |   150/  250 batches | accuracy    0.497\n",
            "| epoch   9 |   200/  250 batches | accuracy    0.513\n",
            "-----------------------------------------------------------\n",
            "| end of epoch   9 | time:  0.68s | valid accuracy    0.512 \n",
            "-----------------------------------------------------------\n",
            "| epoch  10 |    50/  250 batches | accuracy    0.519\n",
            "| epoch  10 |   100/  250 batches | accuracy    0.497\n",
            "| epoch  10 |   150/  250 batches | accuracy    0.515\n",
            "| epoch  10 |   200/  250 batches | accuracy    0.519\n",
            "-----------------------------------------------------------\n",
            "| end of epoch  10 | time:  0.69s | valid accuracy    0.512 \n",
            "-----------------------------------------------------------\n",
            "| epoch  11 |    50/  250 batches | accuracy    0.512\n",
            "| epoch  11 |   100/  250 batches | accuracy    0.520\n",
            "| epoch  11 |   150/  250 batches | accuracy    0.521\n",
            "| epoch  11 |   200/  250 batches | accuracy    0.504\n",
            "-----------------------------------------------------------\n",
            "| end of epoch  11 | time:  0.65s | valid accuracy    0.512 \n",
            "-----------------------------------------------------------\n",
            "| epoch  12 |    50/  250 batches | accuracy    0.509\n",
            "| epoch  12 |   100/  250 batches | accuracy    0.517\n",
            "| epoch  12 |   150/  250 batches | accuracy    0.540\n",
            "| epoch  12 |   200/  250 batches | accuracy    0.519\n",
            "-----------------------------------------------------------\n",
            "| end of epoch  12 | time:  0.67s | valid accuracy    0.512 \n",
            "-----------------------------------------------------------\n",
            "| epoch  13 |    50/  250 batches | accuracy    0.506\n",
            "| epoch  13 |   100/  250 batches | accuracy    0.518\n",
            "| epoch  13 |   150/  250 batches | accuracy    0.532\n",
            "| epoch  13 |   200/  250 batches | accuracy    0.508\n",
            "-----------------------------------------------------------\n",
            "| end of epoch  13 | time:  0.67s | valid accuracy    0.512 \n",
            "-----------------------------------------------------------\n",
            "| epoch  14 |    50/  250 batches | accuracy    0.516\n",
            "| epoch  14 |   100/  250 batches | accuracy    0.507\n",
            "| epoch  14 |   150/  250 batches | accuracy    0.511\n",
            "| epoch  14 |   200/  250 batches | accuracy    0.530\n",
            "-----------------------------------------------------------\n",
            "| end of epoch  14 | time:  0.67s | valid accuracy    0.512 \n",
            "-----------------------------------------------------------\n",
            "| epoch  15 |    50/  250 batches | accuracy    0.515\n",
            "| epoch  15 |   100/  250 batches | accuracy    0.530\n",
            "| epoch  15 |   150/  250 batches | accuracy    0.507\n",
            "| epoch  15 |   200/  250 batches | accuracy    0.508\n",
            "-----------------------------------------------------------\n",
            "| end of epoch  15 | time:  0.66s | valid accuracy    0.512 \n",
            "-----------------------------------------------------------\n",
            "| epoch  16 |    50/  250 batches | accuracy    0.516\n",
            "| epoch  16 |   100/  250 batches | accuracy    0.519\n",
            "| epoch  16 |   150/  250 batches | accuracy    0.517\n",
            "| epoch  16 |   200/  250 batches | accuracy    0.506\n",
            "-----------------------------------------------------------\n",
            "| end of epoch  16 | time:  0.67s | valid accuracy    0.512 \n",
            "-----------------------------------------------------------\n",
            "| epoch  17 |    50/  250 batches | accuracy    0.520\n",
            "| epoch  17 |   100/  250 batches | accuracy    0.498\n",
            "| epoch  17 |   150/  250 batches | accuracy    0.521\n",
            "| epoch  17 |   200/  250 batches | accuracy    0.517\n",
            "-----------------------------------------------------------\n",
            "| end of epoch  17 | time:  0.68s | valid accuracy    0.512 \n",
            "-----------------------------------------------------------\n",
            "| epoch  18 |    50/  250 batches | accuracy    0.516\n",
            "| epoch  18 |   100/  250 batches | accuracy    0.520\n",
            "| epoch  18 |   150/  250 batches | accuracy    0.500\n",
            "| epoch  18 |   200/  250 batches | accuracy    0.511\n",
            "-----------------------------------------------------------\n",
            "| end of epoch  18 | time:  0.67s | valid accuracy    0.512 \n",
            "-----------------------------------------------------------\n",
            "| epoch  19 |    50/  250 batches | accuracy    0.504\n",
            "| epoch  19 |   100/  250 batches | accuracy    0.533\n",
            "| epoch  19 |   150/  250 batches | accuracy    0.530\n",
            "| epoch  19 |   200/  250 batches | accuracy    0.501\n",
            "-----------------------------------------------------------\n",
            "| end of epoch  19 | time:  0.68s | valid accuracy    0.512 \n",
            "-----------------------------------------------------------\n",
            "| epoch  20 |    50/  250 batches | accuracy    0.530\n",
            "| epoch  20 |   100/  250 batches | accuracy    0.516\n",
            "| epoch  20 |   150/  250 batches | accuracy    0.507\n",
            "| epoch  20 |   200/  250 batches | accuracy    0.514\n",
            "-----------------------------------------------------------\n",
            "| end of epoch  20 | time:  0.66s | valid accuracy    0.512 \n",
            "-----------------------------------------------------------\n",
            "| epoch  21 |    50/  250 batches | accuracy    0.511\n",
            "| epoch  21 |   100/  250 batches | accuracy    0.515\n",
            "| epoch  21 |   150/  250 batches | accuracy    0.529\n",
            "| epoch  21 |   200/  250 batches | accuracy    0.503\n",
            "-----------------------------------------------------------\n",
            "| end of epoch  21 | time:  0.69s | valid accuracy    0.512 \n",
            "-----------------------------------------------------------\n",
            "| epoch  22 |    50/  250 batches | accuracy    0.523\n",
            "| epoch  22 |   100/  250 batches | accuracy    0.533\n",
            "| epoch  22 |   150/  250 batches | accuracy    0.494\n",
            "| epoch  22 |   200/  250 batches | accuracy    0.520\n",
            "-----------------------------------------------------------\n",
            "| end of epoch  22 | time:  0.67s | valid accuracy    0.512 \n",
            "-----------------------------------------------------------\n",
            "| epoch  23 |    50/  250 batches | accuracy    0.504\n",
            "| epoch  23 |   100/  250 batches | accuracy    0.542\n",
            "| epoch  23 |   150/  250 batches | accuracy    0.541\n",
            "| epoch  23 |   200/  250 batches | accuracy    0.514\n",
            "-----------------------------------------------------------\n",
            "| end of epoch  23 | time:  0.66s | valid accuracy    0.512 \n",
            "-----------------------------------------------------------\n",
            "| epoch  24 |    50/  250 batches | accuracy    0.514\n",
            "| epoch  24 |   100/  250 batches | accuracy    0.502\n",
            "| epoch  24 |   150/  250 batches | accuracy    0.512\n",
            "| epoch  24 |   200/  250 batches | accuracy    0.536\n",
            "-----------------------------------------------------------\n",
            "| end of epoch  24 | time:  0.69s | valid accuracy    0.512 \n",
            "-----------------------------------------------------------\n",
            "| epoch  25 |    50/  250 batches | accuracy    0.523\n",
            "| epoch  25 |   100/  250 batches | accuracy    0.519\n",
            "| epoch  25 |   150/  250 batches | accuracy    0.505\n",
            "| epoch  25 |   200/  250 batches | accuracy    0.504\n",
            "-----------------------------------------------------------\n",
            "| end of epoch  25 | time:  0.72s | valid accuracy    0.512 \n",
            "-----------------------------------------------------------\n"
          ]
        }
      ]
    },
    {
      "cell_type": "code",
      "source": [
        "print('Checking the results of test dataset.')\n",
        "accu_test = evaluate(test_dataloader)\n",
        "print('test accuracy {:8.3f}'.format(accu_test))"
      ],
      "metadata": {
        "colab": {
          "base_uri": "https://localhost:8080/"
        },
        "id": "LlQRSfxOjnzF",
        "outputId": "95a9f18a-397d-4df1-d95b-4e01398c9ee1"
      },
      "execution_count": 325,
      "outputs": [
        {
          "output_type": "stream",
          "name": "stdout",
          "text": [
            "Checking the results of test dataset.\n",
            "test accuracy    0.521\n"
          ]
        }
      ]
    },
    {
      "cell_type": "markdown",
      "source": [
        "test model on text"
      ],
      "metadata": {
        "id": "6KY4XKYEjqS-"
      }
    },
    {
      "cell_type": "code",
      "source": [
        "emotion_label = {6: \"Surprise\",\n",
        "                   5: \"Sadness\",\n",
        "                   4: \"Neutral\",\n",
        "                   3: \"Joy\",\n",
        "                   2:\"Fear\",\n",
        "                   1: \"Disgust\",\n",
        "                   0: \"Anger\"\n",
        "                  }\n",
        "\n",
        "\n",
        "\n",
        "def predict(text, text_pipeline):\n",
        "    with torch.no_grad():\n",
        "        text = torch.tensor(text_pipeline(text))\n",
        "        output = model(text, torch.tensor([0]))\n",
        "        return output.argmax(1).item() \n",
        "ex_text_str = \"And if, and if you dont understand how important this is to me, well then, perhaps we shouldnt get married at all!\"\n",
        "model = model.to(\"cpu\")\n",
        "\n",
        "print(\"This is %s\" %emotion_label[predict(ex_text_str, text_pipeline)])"
      ],
      "metadata": {
        "colab": {
          "base_uri": "https://localhost:8080/"
        },
        "id": "L6Q_gRkIjsRO",
        "outputId": "ab38db64-a669-4bce-81cb-763e0c6f5533"
      },
      "execution_count": 327,
      "outputs": [
        {
          "output_type": "stream",
          "name": "stdout",
          "text": [
            "This is Neutral\n"
          ]
        }
      ]
    },
    {
      "cell_type": "code",
      "source": [
        "print(X_train[23])\n",
        "print(Y_train[23])"
      ],
      "metadata": {
        "colab": {
          "base_uri": "https://localhost:8080/"
        },
        "id": "CjM1WUImkrij",
        "outputId": "9bf33482-9b53-44bc-d413-d6454b470fda"
      },
      "execution_count": 289,
      "outputs": [
        {
          "output_type": "stream",
          "name": "stdout",
          "text": [
            "And if, and if you dont understand how important this is to me, well then, perhaps we shouldnt get married at all!\n",
            "0\n"
          ]
        }
      ]
    }
  ]
}